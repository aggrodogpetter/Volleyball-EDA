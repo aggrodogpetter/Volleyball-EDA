{
 "cells": [
  {
   "cell_type": "markdown",
   "id": "f20b29b8-4e0d-4870-8891-022d641d4842",
   "metadata": {},
   "source": [
    "# Import necessary libraries"
   ]
  },
  {
   "cell_type": "code",
   "execution_count": 15,
   "id": "d4c67edf-8c98-4450-89f1-3188e387402e",
   "metadata": {},
   "outputs": [],
   "source": [
    "import pandas as pd\n",
    "import numpy as np\n",
    "import matplotlib.pyplot as plt\n",
    "import seaborn as sns\n",
    "import plotly.graph_objects as go\n",
    "pd.set_option('display.max_columns', 66)"
   ]
  },
  {
   "cell_type": "markdown",
   "id": "71c35f94-3a80-4bae-b267-3f9e5b2ec25a",
   "metadata": {},
   "source": [
    "# Load in dataset"
   ]
  },
  {
   "cell_type": "code",
   "execution_count": 11,
   "id": "98122528-916b-4ddf-abd3-a1ddb64c3c9e",
   "metadata": {},
   "outputs": [
    {
     "data": {
      "text/html": [
       "<div>\n",
       "<style scoped>\n",
       "    .dataframe tbody tr th:only-of-type {\n",
       "        vertical-align: middle;\n",
       "    }\n",
       "\n",
       "    .dataframe tbody tr th {\n",
       "        vertical-align: top;\n",
       "    }\n",
       "\n",
       "    .dataframe thead th {\n",
       "        text-align: right;\n",
       "    }\n",
       "</style>\n",
       "<table border=\"1\" class=\"dataframe\">\n",
       "  <thead>\n",
       "    <tr style=\"text-align: right;\">\n",
       "      <th></th>\n",
       "      <th>circuit</th>\n",
       "      <th>tournament</th>\n",
       "      <th>country</th>\n",
       "      <th>year</th>\n",
       "      <th>date</th>\n",
       "      <th>gender</th>\n",
       "      <th>match_num</th>\n",
       "      <th>w_player1</th>\n",
       "      <th>w_p1_birthdate</th>\n",
       "      <th>w_p1_age</th>\n",
       "      <th>w_p1_hgt</th>\n",
       "      <th>w_p1_country</th>\n",
       "      <th>w_player2</th>\n",
       "      <th>w_p2_birthdate</th>\n",
       "      <th>w_p2_age</th>\n",
       "      <th>w_p2_hgt</th>\n",
       "      <th>w_p2_country</th>\n",
       "      <th>w_rank</th>\n",
       "      <th>l_player1</th>\n",
       "      <th>l_p1_birthdate</th>\n",
       "      <th>l_p1_age</th>\n",
       "      <th>l_p1_hgt</th>\n",
       "      <th>l_p1_country</th>\n",
       "      <th>l_player2</th>\n",
       "      <th>l_p2_birthdate</th>\n",
       "      <th>l_p2_age</th>\n",
       "      <th>l_p2_hgt</th>\n",
       "      <th>l_p2_country</th>\n",
       "      <th>l_rank</th>\n",
       "      <th>score</th>\n",
       "      <th>duration</th>\n",
       "      <th>bracket</th>\n",
       "      <th>round</th>\n",
       "      <th>w_p1_tot_attacks</th>\n",
       "      <th>w_p1_tot_kills</th>\n",
       "      <th>w_p1_tot_errors</th>\n",
       "      <th>w_p1_tot_hitpct</th>\n",
       "      <th>w_p1_tot_aces</th>\n",
       "      <th>w_p1_tot_serve_errors</th>\n",
       "      <th>w_p1_tot_blocks</th>\n",
       "      <th>w_p1_tot_digs</th>\n",
       "      <th>w_p2_tot_attacks</th>\n",
       "      <th>w_p2_tot_kills</th>\n",
       "      <th>w_p2_tot_errors</th>\n",
       "      <th>w_p2_tot_hitpct</th>\n",
       "      <th>w_p2_tot_aces</th>\n",
       "      <th>w_p2_tot_serve_errors</th>\n",
       "      <th>w_p2_tot_blocks</th>\n",
       "      <th>w_p2_tot_digs</th>\n",
       "      <th>l_p1_tot_attacks</th>\n",
       "      <th>l_p1_tot_kills</th>\n",
       "      <th>l_p1_tot_errors</th>\n",
       "      <th>l_p1_tot_hitpct</th>\n",
       "      <th>l_p1_tot_aces</th>\n",
       "      <th>l_p1_tot_serve_errors</th>\n",
       "      <th>l_p1_tot_blocks</th>\n",
       "      <th>l_p1_tot_digs</th>\n",
       "      <th>l_p2_tot_attacks</th>\n",
       "      <th>l_p2_tot_kills</th>\n",
       "      <th>l_p2_tot_errors</th>\n",
       "      <th>l_p2_tot_hitpct</th>\n",
       "      <th>l_p2_tot_aces</th>\n",
       "      <th>l_p2_tot_serve_errors</th>\n",
       "      <th>l_p2_tot_blocks</th>\n",
       "      <th>l_p2_tot_digs</th>\n",
       "    </tr>\n",
       "  </thead>\n",
       "  <tbody>\n",
       "    <tr>\n",
       "      <th>0</th>\n",
       "      <td>AVP</td>\n",
       "      <td>Huntington Beach</td>\n",
       "      <td>United States</td>\n",
       "      <td>2002</td>\n",
       "      <td>2002-05-24</td>\n",
       "      <td>M</td>\n",
       "      <td>1</td>\n",
       "      <td>Kevin Wong</td>\n",
       "      <td>1972-09-12</td>\n",
       "      <td>29.694730</td>\n",
       "      <td>79.0</td>\n",
       "      <td>United States</td>\n",
       "      <td>Stein Metzger</td>\n",
       "      <td>1972-11-17</td>\n",
       "      <td>29.514032</td>\n",
       "      <td>75.0</td>\n",
       "      <td>United States</td>\n",
       "      <td>1</td>\n",
       "      <td>Chuck Moore</td>\n",
       "      <td>1973-08-18</td>\n",
       "      <td>28.763860</td>\n",
       "      <td>76.0</td>\n",
       "      <td>United States</td>\n",
       "      <td>Ed Ratledge</td>\n",
       "      <td>1976-12-16</td>\n",
       "      <td>25.434634</td>\n",
       "      <td>80.0</td>\n",
       "      <td>United States</td>\n",
       "      <td>32</td>\n",
       "      <td>21-18, 21-12</td>\n",
       "      <td>00:33:00</td>\n",
       "      <td>Winner's Bracket</td>\n",
       "      <td>Round 1</td>\n",
       "      <td>NaN</td>\n",
       "      <td>NaN</td>\n",
       "      <td>NaN</td>\n",
       "      <td>NaN</td>\n",
       "      <td>1.0</td>\n",
       "      <td>NaN</td>\n",
       "      <td>7.0</td>\n",
       "      <td>NaN</td>\n",
       "      <td>NaN</td>\n",
       "      <td>NaN</td>\n",
       "      <td>NaN</td>\n",
       "      <td>NaN</td>\n",
       "      <td>2.0</td>\n",
       "      <td>NaN</td>\n",
       "      <td>0.0</td>\n",
       "      <td>NaN</td>\n",
       "      <td>NaN</td>\n",
       "      <td>NaN</td>\n",
       "      <td>NaN</td>\n",
       "      <td>NaN</td>\n",
       "      <td>1.0</td>\n",
       "      <td>NaN</td>\n",
       "      <td>0.0</td>\n",
       "      <td>NaN</td>\n",
       "      <td>NaN</td>\n",
       "      <td>NaN</td>\n",
       "      <td>NaN</td>\n",
       "      <td>NaN</td>\n",
       "      <td>0.0</td>\n",
       "      <td>NaN</td>\n",
       "      <td>1.0</td>\n",
       "      <td>NaN</td>\n",
       "    </tr>\n",
       "    <tr>\n",
       "      <th>1</th>\n",
       "      <td>AVP</td>\n",
       "      <td>Huntington Beach</td>\n",
       "      <td>United States</td>\n",
       "      <td>2002</td>\n",
       "      <td>2002-05-24</td>\n",
       "      <td>M</td>\n",
       "      <td>2</td>\n",
       "      <td>Brad Torsone</td>\n",
       "      <td>1975-01-14</td>\n",
       "      <td>27.356605</td>\n",
       "      <td>78.0</td>\n",
       "      <td>United States</td>\n",
       "      <td>Casey Jennings</td>\n",
       "      <td>1975-07-10</td>\n",
       "      <td>26.872006</td>\n",
       "      <td>75.0</td>\n",
       "      <td>United States</td>\n",
       "      <td>16</td>\n",
       "      <td>Mark Paaluhi</td>\n",
       "      <td>1971-03-08</td>\n",
       "      <td>31.211499</td>\n",
       "      <td>75.0</td>\n",
       "      <td>United States</td>\n",
       "      <td>Nick Hannemann</td>\n",
       "      <td>1972-01-12</td>\n",
       "      <td>30.362765</td>\n",
       "      <td>78.0</td>\n",
       "      <td>United States</td>\n",
       "      <td>17</td>\n",
       "      <td>21-16, 17-21, 15-10</td>\n",
       "      <td>00:57:00</td>\n",
       "      <td>Winner's Bracket</td>\n",
       "      <td>Round 1</td>\n",
       "      <td>NaN</td>\n",
       "      <td>NaN</td>\n",
       "      <td>NaN</td>\n",
       "      <td>NaN</td>\n",
       "      <td>0.0</td>\n",
       "      <td>NaN</td>\n",
       "      <td>4.0</td>\n",
       "      <td>NaN</td>\n",
       "      <td>NaN</td>\n",
       "      <td>NaN</td>\n",
       "      <td>NaN</td>\n",
       "      <td>NaN</td>\n",
       "      <td>4.0</td>\n",
       "      <td>NaN</td>\n",
       "      <td>0.0</td>\n",
       "      <td>NaN</td>\n",
       "      <td>NaN</td>\n",
       "      <td>NaN</td>\n",
       "      <td>NaN</td>\n",
       "      <td>NaN</td>\n",
       "      <td>0.0</td>\n",
       "      <td>NaN</td>\n",
       "      <td>2.0</td>\n",
       "      <td>NaN</td>\n",
       "      <td>NaN</td>\n",
       "      <td>NaN</td>\n",
       "      <td>NaN</td>\n",
       "      <td>NaN</td>\n",
       "      <td>0.0</td>\n",
       "      <td>NaN</td>\n",
       "      <td>0.0</td>\n",
       "      <td>NaN</td>\n",
       "    </tr>\n",
       "    <tr>\n",
       "      <th>2</th>\n",
       "      <td>AVP</td>\n",
       "      <td>Huntington Beach</td>\n",
       "      <td>United States</td>\n",
       "      <td>2002</td>\n",
       "      <td>2002-05-24</td>\n",
       "      <td>M</td>\n",
       "      <td>3</td>\n",
       "      <td>Eduardo Bacil</td>\n",
       "      <td>1971-03-11</td>\n",
       "      <td>31.203285</td>\n",
       "      <td>74.0</td>\n",
       "      <td>Brazil</td>\n",
       "      <td>Fred Souza</td>\n",
       "      <td>1972-05-13</td>\n",
       "      <td>30.028747</td>\n",
       "      <td>79.0</td>\n",
       "      <td>Brazil</td>\n",
       "      <td>24</td>\n",
       "      <td>Adam Jewell</td>\n",
       "      <td>1975-06-24</td>\n",
       "      <td>26.915811</td>\n",
       "      <td>77.0</td>\n",
       "      <td>United States</td>\n",
       "      <td>Collin Smith</td>\n",
       "      <td>1975-05-26</td>\n",
       "      <td>26.995209</td>\n",
       "      <td>76.0</td>\n",
       "      <td>United States</td>\n",
       "      <td>9</td>\n",
       "      <td>21-18, 21-18</td>\n",
       "      <td>00:46:00</td>\n",
       "      <td>Winner's Bracket</td>\n",
       "      <td>Round 1</td>\n",
       "      <td>NaN</td>\n",
       "      <td>NaN</td>\n",
       "      <td>NaN</td>\n",
       "      <td>NaN</td>\n",
       "      <td>0.0</td>\n",
       "      <td>NaN</td>\n",
       "      <td>2.0</td>\n",
       "      <td>NaN</td>\n",
       "      <td>NaN</td>\n",
       "      <td>NaN</td>\n",
       "      <td>NaN</td>\n",
       "      <td>NaN</td>\n",
       "      <td>0.0</td>\n",
       "      <td>NaN</td>\n",
       "      <td>4.0</td>\n",
       "      <td>NaN</td>\n",
       "      <td>NaN</td>\n",
       "      <td>NaN</td>\n",
       "      <td>NaN</td>\n",
       "      <td>NaN</td>\n",
       "      <td>1.0</td>\n",
       "      <td>NaN</td>\n",
       "      <td>1.0</td>\n",
       "      <td>NaN</td>\n",
       "      <td>NaN</td>\n",
       "      <td>NaN</td>\n",
       "      <td>NaN</td>\n",
       "      <td>NaN</td>\n",
       "      <td>0.0</td>\n",
       "      <td>NaN</td>\n",
       "      <td>0.0</td>\n",
       "      <td>NaN</td>\n",
       "    </tr>\n",
       "    <tr>\n",
       "      <th>3</th>\n",
       "      <td>AVP</td>\n",
       "      <td>Huntington Beach</td>\n",
       "      <td>United States</td>\n",
       "      <td>2002</td>\n",
       "      <td>2002-05-24</td>\n",
       "      <td>M</td>\n",
       "      <td>4</td>\n",
       "      <td>Brent Doble</td>\n",
       "      <td>1970-01-03</td>\n",
       "      <td>32.386037</td>\n",
       "      <td>78.0</td>\n",
       "      <td>United States</td>\n",
       "      <td>Karch Kiraly</td>\n",
       "      <td>2060-11-03</td>\n",
       "      <td>41.552361</td>\n",
       "      <td>74.0</td>\n",
       "      <td>United States</td>\n",
       "      <td>8</td>\n",
       "      <td>David Swatik</td>\n",
       "      <td>1973-02-14</td>\n",
       "      <td>29.270363</td>\n",
       "      <td>76.0</td>\n",
       "      <td>United States</td>\n",
       "      <td>Mike Mattarocci</td>\n",
       "      <td>1969-10-05</td>\n",
       "      <td>32.632444</td>\n",
       "      <td>80.0</td>\n",
       "      <td>United States</td>\n",
       "      <td>25</td>\n",
       "      <td>21-16, 21-15</td>\n",
       "      <td>00:44:00</td>\n",
       "      <td>Winner's Bracket</td>\n",
       "      <td>Round 1</td>\n",
       "      <td>NaN</td>\n",
       "      <td>NaN</td>\n",
       "      <td>NaN</td>\n",
       "      <td>NaN</td>\n",
       "      <td>0.0</td>\n",
       "      <td>NaN</td>\n",
       "      <td>3.0</td>\n",
       "      <td>NaN</td>\n",
       "      <td>NaN</td>\n",
       "      <td>NaN</td>\n",
       "      <td>NaN</td>\n",
       "      <td>NaN</td>\n",
       "      <td>0.0</td>\n",
       "      <td>NaN</td>\n",
       "      <td>0.0</td>\n",
       "      <td>NaN</td>\n",
       "      <td>NaN</td>\n",
       "      <td>NaN</td>\n",
       "      <td>NaN</td>\n",
       "      <td>NaN</td>\n",
       "      <td>0.0</td>\n",
       "      <td>NaN</td>\n",
       "      <td>2.0</td>\n",
       "      <td>NaN</td>\n",
       "      <td>NaN</td>\n",
       "      <td>NaN</td>\n",
       "      <td>NaN</td>\n",
       "      <td>NaN</td>\n",
       "      <td>2.0</td>\n",
       "      <td>NaN</td>\n",
       "      <td>0.0</td>\n",
       "      <td>NaN</td>\n",
       "    </tr>\n",
       "    <tr>\n",
       "      <th>4</th>\n",
       "      <td>AVP</td>\n",
       "      <td>Huntington Beach</td>\n",
       "      <td>United States</td>\n",
       "      <td>2002</td>\n",
       "      <td>2002-05-24</td>\n",
       "      <td>M</td>\n",
       "      <td>5</td>\n",
       "      <td>Albert Hannemann</td>\n",
       "      <td>1970-05-04</td>\n",
       "      <td>32.054757</td>\n",
       "      <td>75.0</td>\n",
       "      <td>United States</td>\n",
       "      <td>Jeff Nygaard</td>\n",
       "      <td>1972-08-03</td>\n",
       "      <td>29.804244</td>\n",
       "      <td>80.0</td>\n",
       "      <td>United States</td>\n",
       "      <td>5</td>\n",
       "      <td>Adam Roberts</td>\n",
       "      <td>1976-01-25</td>\n",
       "      <td>26.327173</td>\n",
       "      <td>73.0</td>\n",
       "      <td>United States</td>\n",
       "      <td>Jim Walls</td>\n",
       "      <td>1978-03-26</td>\n",
       "      <td>24.161533</td>\n",
       "      <td>75.0</td>\n",
       "      <td>United States</td>\n",
       "      <td>28</td>\n",
       "      <td>20-22, 23-21, 15-10</td>\n",
       "      <td>01:08:00</td>\n",
       "      <td>Winner's Bracket</td>\n",
       "      <td>Round 1</td>\n",
       "      <td>NaN</td>\n",
       "      <td>NaN</td>\n",
       "      <td>NaN</td>\n",
       "      <td>NaN</td>\n",
       "      <td>1.0</td>\n",
       "      <td>NaN</td>\n",
       "      <td>0.0</td>\n",
       "      <td>NaN</td>\n",
       "      <td>NaN</td>\n",
       "      <td>NaN</td>\n",
       "      <td>NaN</td>\n",
       "      <td>NaN</td>\n",
       "      <td>0.0</td>\n",
       "      <td>NaN</td>\n",
       "      <td>6.0</td>\n",
       "      <td>NaN</td>\n",
       "      <td>NaN</td>\n",
       "      <td>NaN</td>\n",
       "      <td>NaN</td>\n",
       "      <td>NaN</td>\n",
       "      <td>0.0</td>\n",
       "      <td>NaN</td>\n",
       "      <td>0.0</td>\n",
       "      <td>NaN</td>\n",
       "      <td>NaN</td>\n",
       "      <td>NaN</td>\n",
       "      <td>NaN</td>\n",
       "      <td>NaN</td>\n",
       "      <td>0.0</td>\n",
       "      <td>NaN</td>\n",
       "      <td>1.0</td>\n",
       "      <td>NaN</td>\n",
       "    </tr>\n",
       "  </tbody>\n",
       "</table>\n",
       "</div>"
      ],
      "text/plain": [
       "  circuit        tournament        country  year        date gender  \\\n",
       "0     AVP  Huntington Beach  United States  2002  2002-05-24      M   \n",
       "1     AVP  Huntington Beach  United States  2002  2002-05-24      M   \n",
       "2     AVP  Huntington Beach  United States  2002  2002-05-24      M   \n",
       "3     AVP  Huntington Beach  United States  2002  2002-05-24      M   \n",
       "4     AVP  Huntington Beach  United States  2002  2002-05-24      M   \n",
       "\n",
       "   match_num         w_player1 w_p1_birthdate   w_p1_age  w_p1_hgt  \\\n",
       "0          1        Kevin Wong     1972-09-12  29.694730      79.0   \n",
       "1          2      Brad Torsone     1975-01-14  27.356605      78.0   \n",
       "2          3     Eduardo Bacil     1971-03-11  31.203285      74.0   \n",
       "3          4       Brent Doble     1970-01-03  32.386037      78.0   \n",
       "4          5  Albert Hannemann     1970-05-04  32.054757      75.0   \n",
       "\n",
       "    w_p1_country       w_player2 w_p2_birthdate   w_p2_age  w_p2_hgt  \\\n",
       "0  United States   Stein Metzger     1972-11-17  29.514032      75.0   \n",
       "1  United States  Casey Jennings     1975-07-10  26.872006      75.0   \n",
       "2         Brazil      Fred Souza     1972-05-13  30.028747      79.0   \n",
       "3  United States    Karch Kiraly     2060-11-03  41.552361      74.0   \n",
       "4  United States    Jeff Nygaard     1972-08-03  29.804244      80.0   \n",
       "\n",
       "    w_p2_country w_rank     l_player1 l_p1_birthdate   l_p1_age  l_p1_hgt  \\\n",
       "0  United States      1   Chuck Moore     1973-08-18  28.763860      76.0   \n",
       "1  United States     16  Mark Paaluhi     1971-03-08  31.211499      75.0   \n",
       "2         Brazil     24   Adam Jewell     1975-06-24  26.915811      77.0   \n",
       "3  United States      8  David Swatik     1973-02-14  29.270363      76.0   \n",
       "4  United States      5  Adam Roberts     1976-01-25  26.327173      73.0   \n",
       "\n",
       "    l_p1_country        l_player2 l_p2_birthdate   l_p2_age  l_p2_hgt  \\\n",
       "0  United States      Ed Ratledge     1976-12-16  25.434634      80.0   \n",
       "1  United States   Nick Hannemann     1972-01-12  30.362765      78.0   \n",
       "2  United States     Collin Smith     1975-05-26  26.995209      76.0   \n",
       "3  United States  Mike Mattarocci     1969-10-05  32.632444      80.0   \n",
       "4  United States        Jim Walls     1978-03-26  24.161533      75.0   \n",
       "\n",
       "    l_p2_country l_rank                score  duration           bracket  \\\n",
       "0  United States     32         21-18, 21-12  00:33:00  Winner's Bracket   \n",
       "1  United States     17  21-16, 17-21, 15-10  00:57:00  Winner's Bracket   \n",
       "2  United States      9         21-18, 21-18  00:46:00  Winner's Bracket   \n",
       "3  United States     25         21-16, 21-15  00:44:00  Winner's Bracket   \n",
       "4  United States     28  20-22, 23-21, 15-10  01:08:00  Winner's Bracket   \n",
       "\n",
       "     round  w_p1_tot_attacks  w_p1_tot_kills  w_p1_tot_errors  \\\n",
       "0  Round 1               NaN             NaN              NaN   \n",
       "1  Round 1               NaN             NaN              NaN   \n",
       "2  Round 1               NaN             NaN              NaN   \n",
       "3  Round 1               NaN             NaN              NaN   \n",
       "4  Round 1               NaN             NaN              NaN   \n",
       "\n",
       "   w_p1_tot_hitpct  w_p1_tot_aces  w_p1_tot_serve_errors  w_p1_tot_blocks  \\\n",
       "0              NaN            1.0                    NaN              7.0   \n",
       "1              NaN            0.0                    NaN              4.0   \n",
       "2              NaN            0.0                    NaN              2.0   \n",
       "3              NaN            0.0                    NaN              3.0   \n",
       "4              NaN            1.0                    NaN              0.0   \n",
       "\n",
       "   w_p1_tot_digs  w_p2_tot_attacks  w_p2_tot_kills  w_p2_tot_errors  \\\n",
       "0            NaN               NaN             NaN              NaN   \n",
       "1            NaN               NaN             NaN              NaN   \n",
       "2            NaN               NaN             NaN              NaN   \n",
       "3            NaN               NaN             NaN              NaN   \n",
       "4            NaN               NaN             NaN              NaN   \n",
       "\n",
       "   w_p2_tot_hitpct  w_p2_tot_aces  w_p2_tot_serve_errors  w_p2_tot_blocks  \\\n",
       "0              NaN            2.0                    NaN              0.0   \n",
       "1              NaN            4.0                    NaN              0.0   \n",
       "2              NaN            0.0                    NaN              4.0   \n",
       "3              NaN            0.0                    NaN              0.0   \n",
       "4              NaN            0.0                    NaN              6.0   \n",
       "\n",
       "   w_p2_tot_digs  l_p1_tot_attacks  l_p1_tot_kills  l_p1_tot_errors  \\\n",
       "0            NaN               NaN             NaN              NaN   \n",
       "1            NaN               NaN             NaN              NaN   \n",
       "2            NaN               NaN             NaN              NaN   \n",
       "3            NaN               NaN             NaN              NaN   \n",
       "4            NaN               NaN             NaN              NaN   \n",
       "\n",
       "   l_p1_tot_hitpct  l_p1_tot_aces  l_p1_tot_serve_errors  l_p1_tot_blocks  \\\n",
       "0              NaN            1.0                    NaN              0.0   \n",
       "1              NaN            0.0                    NaN              2.0   \n",
       "2              NaN            1.0                    NaN              1.0   \n",
       "3              NaN            0.0                    NaN              2.0   \n",
       "4              NaN            0.0                    NaN              0.0   \n",
       "\n",
       "   l_p1_tot_digs  l_p2_tot_attacks  l_p2_tot_kills  l_p2_tot_errors  \\\n",
       "0            NaN               NaN             NaN              NaN   \n",
       "1            NaN               NaN             NaN              NaN   \n",
       "2            NaN               NaN             NaN              NaN   \n",
       "3            NaN               NaN             NaN              NaN   \n",
       "4            NaN               NaN             NaN              NaN   \n",
       "\n",
       "   l_p2_tot_hitpct  l_p2_tot_aces  l_p2_tot_serve_errors  l_p2_tot_blocks  \\\n",
       "0              NaN            0.0                    NaN              1.0   \n",
       "1              NaN            0.0                    NaN              0.0   \n",
       "2              NaN            0.0                    NaN              0.0   \n",
       "3              NaN            2.0                    NaN              0.0   \n",
       "4              NaN            0.0                    NaN              1.0   \n",
       "\n",
       "   l_p2_tot_digs  \n",
       "0            NaN  \n",
       "1            NaN  \n",
       "2            NaN  \n",
       "3            NaN  \n",
       "4            NaN  "
      ]
     },
     "execution_count": 11,
     "metadata": {},
     "output_type": "execute_result"
    }
   ],
   "source": [
    "df = pd.read_csv('vb_matches.csv')\n",
    "df.head()"
   ]
  },
  {
   "cell_type": "markdown",
   "id": "6b588bb6-9cf4-4cb5-907a-cae84e80feb0",
   "metadata": {},
   "source": [
    "# Understanding the dataset"
   ]
  },
  {
   "cell_type": "code",
   "execution_count": 12,
   "id": "afabe6ed-c333-476e-8488-70fdf5b50d26",
   "metadata": {},
   "outputs": [
    {
     "data": {
      "text/plain": [
       "(76756, 65)"
      ]
     },
     "execution_count": 12,
     "metadata": {},
     "output_type": "execute_result"
    }
   ],
   "source": [
    "df.shape"
   ]
  },
  {
   "cell_type": "code",
   "execution_count": 13,
   "id": "758b640e-4019-409b-a530-c055e8cae7c7",
   "metadata": {},
   "outputs": [
    {
     "data": {
      "text/plain": [
       "Index(['circuit', 'tournament', 'country', 'year', 'date', 'gender',\n",
       "       'match_num', 'w_player1', 'w_p1_birthdate', 'w_p1_age', 'w_p1_hgt',\n",
       "       'w_p1_country', 'w_player2', 'w_p2_birthdate', 'w_p2_age', 'w_p2_hgt',\n",
       "       'w_p2_country', 'w_rank', 'l_player1', 'l_p1_birthdate', 'l_p1_age',\n",
       "       'l_p1_hgt', 'l_p1_country', 'l_player2', 'l_p2_birthdate', 'l_p2_age',\n",
       "       'l_p2_hgt', 'l_p2_country', 'l_rank', 'score', 'duration', 'bracket',\n",
       "       'round', 'w_p1_tot_attacks', 'w_p1_tot_kills', 'w_p1_tot_errors',\n",
       "       'w_p1_tot_hitpct', 'w_p1_tot_aces', 'w_p1_tot_serve_errors',\n",
       "       'w_p1_tot_blocks', 'w_p1_tot_digs', 'w_p2_tot_attacks',\n",
       "       'w_p2_tot_kills', 'w_p2_tot_errors', 'w_p2_tot_hitpct', 'w_p2_tot_aces',\n",
       "       'w_p2_tot_serve_errors', 'w_p2_tot_blocks', 'w_p2_tot_digs',\n",
       "       'l_p1_tot_attacks', 'l_p1_tot_kills', 'l_p1_tot_errors',\n",
       "       'l_p1_tot_hitpct', 'l_p1_tot_aces', 'l_p1_tot_serve_errors',\n",
       "       'l_p1_tot_blocks', 'l_p1_tot_digs', 'l_p2_tot_attacks',\n",
       "       'l_p2_tot_kills', 'l_p2_tot_errors', 'l_p2_tot_hitpct', 'l_p2_tot_aces',\n",
       "       'l_p2_tot_serve_errors', 'l_p2_tot_blocks', 'l_p2_tot_digs'],\n",
       "      dtype='object')"
      ]
     },
     "execution_count": 13,
     "metadata": {},
     "output_type": "execute_result"
    }
   ],
   "source": [
    "df.columns"
   ]
  },
  {
   "cell_type": "code",
   "execution_count": 14,
   "id": "8a130844-3113-46c7-a0e5-f8fc05faafac",
   "metadata": {},
   "outputs": [
    {
     "data": {
      "text/plain": [
       "circuit                   object\n",
       "tournament                object\n",
       "country                   object\n",
       "year                       int64\n",
       "date                      object\n",
       "                          ...   \n",
       "l_p2_tot_hitpct          float64\n",
       "l_p2_tot_aces            float64\n",
       "l_p2_tot_serve_errors    float64\n",
       "l_p2_tot_blocks          float64\n",
       "l_p2_tot_digs            float64\n",
       "Length: 65, dtype: object"
      ]
     },
     "execution_count": 14,
     "metadata": {},
     "output_type": "execute_result"
    }
   ],
   "source": [
    "df.dtypes"
   ]
  },
  {
   "cell_type": "markdown",
   "id": "92c2890b-9d46-45d9-8f1d-4cb80b238ad0",
   "metadata": {},
   "source": [
    "# Where were tournaments mostly held?"
   ]
  },
  {
   "cell_type": "code",
   "execution_count": 17,
   "id": "3caa4cd8-cc7b-4737-a338-5f37ed337eba",
   "metadata": {},
   "outputs": [
    {
     "data": {
      "text/plain": [
       "array(['United States', 'Australia', 'Macao', 'Italy', 'Spain',\n",
       "       'Switzerland', 'Germany', 'Norway', 'France', 'Portugal',\n",
       "       'Austria', 'Japan', 'Belgium', 'China', 'Hong Kong', 'Brazil',\n",
       "       'Greece', 'Indonesia', 'South Africa', 'Serbia', 'Puerto Rico',\n",
       "       'Poland', 'Croatia', 'Russia', 'Mexico', 'Thailand', 'Bahrain',\n",
       "       'Singapore', 'Korea', 'Czech Republic', 'United Arab Emirates',\n",
       "       'Netherlands', 'Morocco', 'England', 'Argentina', 'Qatar',\n",
       "       'Turkey', 'Iran', 'Canada', 'Malaysia', 'Principality of Monaco',\n",
       "       'Oman', 'Philippines', 'Cambodia', 'Vietnam', 'Slovenia',\n",
       "       'Liechtenstein', 'Hungary', 'India', 'Rwanda', 'Latvia'],\n",
       "      dtype=object)"
      ]
     },
     "execution_count": 17,
     "metadata": {},
     "output_type": "execute_result"
    }
   ],
   "source": [
    "df['country'].unique()"
   ]
  },
  {
   "cell_type": "code",
   "execution_count": 19,
   "id": "1758d5da-9d66-4213-801c-5f4c1ab1200b",
   "metadata": {},
   "outputs": [],
   "source": [
    "def get_num_tourneys(df):\n",
    "    \"\"\"\n",
    "    get_num_tourneys returns the number of tournaments held by each\n",
    "    country.\n",
    "\n",
    "    :df: pandas DataFrame\n",
    "    :return: dictionary with keys of country and values being number\n",
    "    of tournaments from each country\n",
    "    \"\"\"\n",
    "    dict = {}\n",
    "    for country in df['country']:\n",
    "        if country not in dict:\n",
    "            dict[country] = 1\n",
    "        else:\n",
    "            dict[country] += 1\n",
    "    return dict"
   ]
  },
  {
   "cell_type": "code",
   "execution_count": 47,
   "id": "cf1ef614-28ae-4bd3-95d3-6c8ed975cfdc",
   "metadata": {},
   "outputs": [
    {
     "data": {
      "text/plain": [
       "{'United States': 27311,\n",
       " 'Australia': 713,\n",
       " 'Macao': 99,\n",
       " 'Italy': 1957,\n",
       " 'Spain': 1439,\n",
       " 'Switzerland': 4116,\n",
       " 'Germany': 2297,\n",
       " 'Norway': 3280,\n",
       " 'France': 2567,\n",
       " 'Portugal': 1508,\n",
       " 'Austria': 3302,\n",
       " 'Japan': 1051,\n",
       " 'Belgium': 197,\n",
       " 'China': 6158,\n",
       " 'Hong Kong': 73,\n",
       " 'Brazil': 2070,\n",
       " 'Greece': 905,\n",
       " 'Indonesia': 124,\n",
       " 'South Africa': 543,\n",
       " 'Serbia': 102,\n",
       " 'Puerto Rico': 76,\n",
       " 'Poland': 3358,\n",
       " 'Croatia': 1115,\n",
       " 'Russia': 3318,\n",
       " 'Mexico': 717,\n",
       " 'Thailand': 811,\n",
       " 'Bahrain': 173,\n",
       " 'Singapore': 212,\n",
       " 'Korea': 467,\n",
       " 'Czech Republic': 995,\n",
       " 'United Arab Emirates': 137,\n",
       " 'Netherlands': 1686,\n",
       " 'Morocco': 198,\n",
       " 'England': 108,\n",
       " 'Argentina': 174,\n",
       " 'Qatar': 433,\n",
       " 'Turkey': 897,\n",
       " 'Iran': 299,\n",
       " 'Canada': 182,\n",
       " 'Malaysia': 344,\n",
       " 'Principality of Monaco': 16,\n",
       " 'Oman': 66,\n",
       " 'Philippines': 136,\n",
       " 'Cambodia': 230,\n",
       " 'Vietnam': 64,\n",
       " 'Slovenia': 236,\n",
       " 'Liechtenstein': 157,\n",
       " 'Hungary': 157,\n",
       " 'India': 69,\n",
       " 'Rwanda': 40,\n",
       " 'Latvia': 73}"
      ]
     },
     "execution_count": 47,
     "metadata": {},
     "output_type": "execute_result"
    }
   ],
   "source": [
    "dict = get_num_tourneys(df)\n",
    "dict"
   ]
  },
  {
   "cell_type": "markdown",
   "id": "8d2c343e-29b6-4eb7-8d9a-72f8515aac0a",
   "metadata": {},
   "source": [
    "## Figure of all countries and their respective number of tournaments"
   ]
  },
  {
   "cell_type": "code",
   "execution_count": 56,
   "id": "a069c085-29d4-4444-b3d1-b3c8c17fcea0",
   "metadata": {},
   "outputs": [
    {
     "data": {
      "application/vnd.plotly.v1+json": {
       "config": {
        "plotlyServerURL": "https://plot.ly"
       },
       "data": [
        {
         "orientation": "h",
         "type": "bar",
         "x": [
          27311,
          713,
          99,
          1957,
          1439,
          4116,
          2297,
          3280,
          2567,
          1508,
          3302,
          1051,
          197,
          6158,
          73,
          2070,
          905,
          124,
          543,
          102,
          76,
          3358,
          1115,
          3318,
          717,
          811,
          173,
          212,
          467,
          995,
          137,
          1686,
          198,
          108,
          174,
          433,
          897,
          299,
          182,
          344,
          16,
          66,
          136,
          230,
          64,
          236,
          157,
          157,
          69,
          40,
          73
         ],
         "y": [
          "United States",
          "Australia",
          "Macao",
          "Italy",
          "Spain",
          "Switzerland",
          "Germany",
          "Norway",
          "France",
          "Portugal",
          "Austria",
          "Japan",
          "Belgium",
          "China",
          "Hong Kong",
          "Brazil",
          "Greece",
          "Indonesia",
          "South Africa",
          "Serbia",
          "Puerto Rico",
          "Poland",
          "Croatia",
          "Russia",
          "Mexico",
          "Thailand",
          "Bahrain",
          "Singapore",
          "Korea",
          "Czech Republic",
          "United Arab Emirates",
          "Netherlands",
          "Morocco",
          "England",
          "Argentina",
          "Qatar",
          "Turkey",
          "Iran",
          "Canada",
          "Malaysia",
          "Principality of Monaco",
          "Oman",
          "Philippines",
          "Cambodia",
          "Vietnam",
          "Slovenia",
          "Liechtenstein",
          "Hungary",
          "India",
          "Rwanda",
          "Latvia"
         ]
        }
       ],
       "layout": {
        "autosize": true,
        "template": {
         "data": {
          "bar": [
           {
            "error_x": {
             "color": "#2a3f5f"
            },
            "error_y": {
             "color": "#2a3f5f"
            },
            "marker": {
             "line": {
              "color": "#E5ECF6",
              "width": 0.5
             },
             "pattern": {
              "fillmode": "overlay",
              "size": 10,
              "solidity": 0.2
             }
            },
            "type": "bar"
           }
          ],
          "barpolar": [
           {
            "marker": {
             "line": {
              "color": "#E5ECF6",
              "width": 0.5
             },
             "pattern": {
              "fillmode": "overlay",
              "size": 10,
              "solidity": 0.2
             }
            },
            "type": "barpolar"
           }
          ],
          "carpet": [
           {
            "aaxis": {
             "endlinecolor": "#2a3f5f",
             "gridcolor": "white",
             "linecolor": "white",
             "minorgridcolor": "white",
             "startlinecolor": "#2a3f5f"
            },
            "baxis": {
             "endlinecolor": "#2a3f5f",
             "gridcolor": "white",
             "linecolor": "white",
             "minorgridcolor": "white",
             "startlinecolor": "#2a3f5f"
            },
            "type": "carpet"
           }
          ],
          "choropleth": [
           {
            "colorbar": {
             "outlinewidth": 0,
             "ticks": ""
            },
            "type": "choropleth"
           }
          ],
          "contour": [
           {
            "colorbar": {
             "outlinewidth": 0,
             "ticks": ""
            },
            "colorscale": [
             [
              0,
              "#0d0887"
             ],
             [
              0.1111111111111111,
              "#46039f"
             ],
             [
              0.2222222222222222,
              "#7201a8"
             ],
             [
              0.3333333333333333,
              "#9c179e"
             ],
             [
              0.4444444444444444,
              "#bd3786"
             ],
             [
              0.5555555555555556,
              "#d8576b"
             ],
             [
              0.6666666666666666,
              "#ed7953"
             ],
             [
              0.7777777777777778,
              "#fb9f3a"
             ],
             [
              0.8888888888888888,
              "#fdca26"
             ],
             [
              1,
              "#f0f921"
             ]
            ],
            "type": "contour"
           }
          ],
          "contourcarpet": [
           {
            "colorbar": {
             "outlinewidth": 0,
             "ticks": ""
            },
            "type": "contourcarpet"
           }
          ],
          "heatmap": [
           {
            "colorbar": {
             "outlinewidth": 0,
             "ticks": ""
            },
            "colorscale": [
             [
              0,
              "#0d0887"
             ],
             [
              0.1111111111111111,
              "#46039f"
             ],
             [
              0.2222222222222222,
              "#7201a8"
             ],
             [
              0.3333333333333333,
              "#9c179e"
             ],
             [
              0.4444444444444444,
              "#bd3786"
             ],
             [
              0.5555555555555556,
              "#d8576b"
             ],
             [
              0.6666666666666666,
              "#ed7953"
             ],
             [
              0.7777777777777778,
              "#fb9f3a"
             ],
             [
              0.8888888888888888,
              "#fdca26"
             ],
             [
              1,
              "#f0f921"
             ]
            ],
            "type": "heatmap"
           }
          ],
          "heatmapgl": [
           {
            "colorbar": {
             "outlinewidth": 0,
             "ticks": ""
            },
            "colorscale": [
             [
              0,
              "#0d0887"
             ],
             [
              0.1111111111111111,
              "#46039f"
             ],
             [
              0.2222222222222222,
              "#7201a8"
             ],
             [
              0.3333333333333333,
              "#9c179e"
             ],
             [
              0.4444444444444444,
              "#bd3786"
             ],
             [
              0.5555555555555556,
              "#d8576b"
             ],
             [
              0.6666666666666666,
              "#ed7953"
             ],
             [
              0.7777777777777778,
              "#fb9f3a"
             ],
             [
              0.8888888888888888,
              "#fdca26"
             ],
             [
              1,
              "#f0f921"
             ]
            ],
            "type": "heatmapgl"
           }
          ],
          "histogram": [
           {
            "marker": {
             "pattern": {
              "fillmode": "overlay",
              "size": 10,
              "solidity": 0.2
             }
            },
            "type": "histogram"
           }
          ],
          "histogram2d": [
           {
            "colorbar": {
             "outlinewidth": 0,
             "ticks": ""
            },
            "colorscale": [
             [
              0,
              "#0d0887"
             ],
             [
              0.1111111111111111,
              "#46039f"
             ],
             [
              0.2222222222222222,
              "#7201a8"
             ],
             [
              0.3333333333333333,
              "#9c179e"
             ],
             [
              0.4444444444444444,
              "#bd3786"
             ],
             [
              0.5555555555555556,
              "#d8576b"
             ],
             [
              0.6666666666666666,
              "#ed7953"
             ],
             [
              0.7777777777777778,
              "#fb9f3a"
             ],
             [
              0.8888888888888888,
              "#fdca26"
             ],
             [
              1,
              "#f0f921"
             ]
            ],
            "type": "histogram2d"
           }
          ],
          "histogram2dcontour": [
           {
            "colorbar": {
             "outlinewidth": 0,
             "ticks": ""
            },
            "colorscale": [
             [
              0,
              "#0d0887"
             ],
             [
              0.1111111111111111,
              "#46039f"
             ],
             [
              0.2222222222222222,
              "#7201a8"
             ],
             [
              0.3333333333333333,
              "#9c179e"
             ],
             [
              0.4444444444444444,
              "#bd3786"
             ],
             [
              0.5555555555555556,
              "#d8576b"
             ],
             [
              0.6666666666666666,
              "#ed7953"
             ],
             [
              0.7777777777777778,
              "#fb9f3a"
             ],
             [
              0.8888888888888888,
              "#fdca26"
             ],
             [
              1,
              "#f0f921"
             ]
            ],
            "type": "histogram2dcontour"
           }
          ],
          "mesh3d": [
           {
            "colorbar": {
             "outlinewidth": 0,
             "ticks": ""
            },
            "type": "mesh3d"
           }
          ],
          "parcoords": [
           {
            "line": {
             "colorbar": {
              "outlinewidth": 0,
              "ticks": ""
             }
            },
            "type": "parcoords"
           }
          ],
          "pie": [
           {
            "automargin": true,
            "type": "pie"
           }
          ],
          "scatter": [
           {
            "fillpattern": {
             "fillmode": "overlay",
             "size": 10,
             "solidity": 0.2
            },
            "type": "scatter"
           }
          ],
          "scatter3d": [
           {
            "line": {
             "colorbar": {
              "outlinewidth": 0,
              "ticks": ""
             }
            },
            "marker": {
             "colorbar": {
              "outlinewidth": 0,
              "ticks": ""
             }
            },
            "type": "scatter3d"
           }
          ],
          "scattercarpet": [
           {
            "marker": {
             "colorbar": {
              "outlinewidth": 0,
              "ticks": ""
             }
            },
            "type": "scattercarpet"
           }
          ],
          "scattergeo": [
           {
            "marker": {
             "colorbar": {
              "outlinewidth": 0,
              "ticks": ""
             }
            },
            "type": "scattergeo"
           }
          ],
          "scattergl": [
           {
            "marker": {
             "colorbar": {
              "outlinewidth": 0,
              "ticks": ""
             }
            },
            "type": "scattergl"
           }
          ],
          "scattermapbox": [
           {
            "marker": {
             "colorbar": {
              "outlinewidth": 0,
              "ticks": ""
             }
            },
            "type": "scattermapbox"
           }
          ],
          "scatterpolar": [
           {
            "marker": {
             "colorbar": {
              "outlinewidth": 0,
              "ticks": ""
             }
            },
            "type": "scatterpolar"
           }
          ],
          "scatterpolargl": [
           {
            "marker": {
             "colorbar": {
              "outlinewidth": 0,
              "ticks": ""
             }
            },
            "type": "scatterpolargl"
           }
          ],
          "scatterternary": [
           {
            "marker": {
             "colorbar": {
              "outlinewidth": 0,
              "ticks": ""
             }
            },
            "type": "scatterternary"
           }
          ],
          "surface": [
           {
            "colorbar": {
             "outlinewidth": 0,
             "ticks": ""
            },
            "colorscale": [
             [
              0,
              "#0d0887"
             ],
             [
              0.1111111111111111,
              "#46039f"
             ],
             [
              0.2222222222222222,
              "#7201a8"
             ],
             [
              0.3333333333333333,
              "#9c179e"
             ],
             [
              0.4444444444444444,
              "#bd3786"
             ],
             [
              0.5555555555555556,
              "#d8576b"
             ],
             [
              0.6666666666666666,
              "#ed7953"
             ],
             [
              0.7777777777777778,
              "#fb9f3a"
             ],
             [
              0.8888888888888888,
              "#fdca26"
             ],
             [
              1,
              "#f0f921"
             ]
            ],
            "type": "surface"
           }
          ],
          "table": [
           {
            "cells": {
             "fill": {
              "color": "#EBF0F8"
             },
             "line": {
              "color": "white"
             }
            },
            "header": {
             "fill": {
              "color": "#C8D4E3"
             },
             "line": {
              "color": "white"
             }
            },
            "type": "table"
           }
          ]
         },
         "layout": {
          "annotationdefaults": {
           "arrowcolor": "#2a3f5f",
           "arrowhead": 0,
           "arrowwidth": 1
          },
          "autotypenumbers": "strict",
          "coloraxis": {
           "colorbar": {
            "outlinewidth": 0,
            "ticks": ""
           }
          },
          "colorscale": {
           "diverging": [
            [
             0,
             "#8e0152"
            ],
            [
             0.1,
             "#c51b7d"
            ],
            [
             0.2,
             "#de77ae"
            ],
            [
             0.3,
             "#f1b6da"
            ],
            [
             0.4,
             "#fde0ef"
            ],
            [
             0.5,
             "#f7f7f7"
            ],
            [
             0.6,
             "#e6f5d0"
            ],
            [
             0.7,
             "#b8e186"
            ],
            [
             0.8,
             "#7fbc41"
            ],
            [
             0.9,
             "#4d9221"
            ],
            [
             1,
             "#276419"
            ]
           ],
           "sequential": [
            [
             0,
             "#0d0887"
            ],
            [
             0.1111111111111111,
             "#46039f"
            ],
            [
             0.2222222222222222,
             "#7201a8"
            ],
            [
             0.3333333333333333,
             "#9c179e"
            ],
            [
             0.4444444444444444,
             "#bd3786"
            ],
            [
             0.5555555555555556,
             "#d8576b"
            ],
            [
             0.6666666666666666,
             "#ed7953"
            ],
            [
             0.7777777777777778,
             "#fb9f3a"
            ],
            [
             0.8888888888888888,
             "#fdca26"
            ],
            [
             1,
             "#f0f921"
            ]
           ],
           "sequentialminus": [
            [
             0,
             "#0d0887"
            ],
            [
             0.1111111111111111,
             "#46039f"
            ],
            [
             0.2222222222222222,
             "#7201a8"
            ],
            [
             0.3333333333333333,
             "#9c179e"
            ],
            [
             0.4444444444444444,
             "#bd3786"
            ],
            [
             0.5555555555555556,
             "#d8576b"
            ],
            [
             0.6666666666666666,
             "#ed7953"
            ],
            [
             0.7777777777777778,
             "#fb9f3a"
            ],
            [
             0.8888888888888888,
             "#fdca26"
            ],
            [
             1,
             "#f0f921"
            ]
           ]
          },
          "colorway": [
           "#636efa",
           "#EF553B",
           "#00cc96",
           "#ab63fa",
           "#FFA15A",
           "#19d3f3",
           "#FF6692",
           "#B6E880",
           "#FF97FF",
           "#FECB52"
          ],
          "font": {
           "color": "#2a3f5f"
          },
          "geo": {
           "bgcolor": "white",
           "lakecolor": "white",
           "landcolor": "#E5ECF6",
           "showlakes": true,
           "showland": true,
           "subunitcolor": "white"
          },
          "hoverlabel": {
           "align": "left"
          },
          "hovermode": "closest",
          "mapbox": {
           "style": "light"
          },
          "paper_bgcolor": "white",
          "plot_bgcolor": "#E5ECF6",
          "polar": {
           "angularaxis": {
            "gridcolor": "white",
            "linecolor": "white",
            "ticks": ""
           },
           "bgcolor": "#E5ECF6",
           "radialaxis": {
            "gridcolor": "white",
            "linecolor": "white",
            "ticks": ""
           }
          },
          "scene": {
           "xaxis": {
            "backgroundcolor": "#E5ECF6",
            "gridcolor": "white",
            "gridwidth": 2,
            "linecolor": "white",
            "showbackground": true,
            "ticks": "",
            "zerolinecolor": "white"
           },
           "yaxis": {
            "backgroundcolor": "#E5ECF6",
            "gridcolor": "white",
            "gridwidth": 2,
            "linecolor": "white",
            "showbackground": true,
            "ticks": "",
            "zerolinecolor": "white"
           },
           "zaxis": {
            "backgroundcolor": "#E5ECF6",
            "gridcolor": "white",
            "gridwidth": 2,
            "linecolor": "white",
            "showbackground": true,
            "ticks": "",
            "zerolinecolor": "white"
           }
          },
          "shapedefaults": {
           "line": {
            "color": "#2a3f5f"
           }
          },
          "ternary": {
           "aaxis": {
            "gridcolor": "white",
            "linecolor": "white",
            "ticks": ""
           },
           "baxis": {
            "gridcolor": "white",
            "linecolor": "white",
            "ticks": ""
           },
           "bgcolor": "#E5ECF6",
           "caxis": {
            "gridcolor": "white",
            "linecolor": "white",
            "ticks": ""
           }
          },
          "title": {
           "x": 0.05
          },
          "xaxis": {
           "automargin": true,
           "gridcolor": "white",
           "linecolor": "white",
           "ticks": "",
           "title": {
            "standoff": 15
           },
           "zerolinecolor": "white",
           "zerolinewidth": 2
          },
          "yaxis": {
           "automargin": true,
           "gridcolor": "white",
           "linecolor": "white",
           "ticks": "",
           "title": {
            "standoff": 15
           },
           "zerolinecolor": "white",
           "zerolinewidth": 2
          }
         }
        },
        "xaxis": {
         "autorange": true,
         "range": [
          0,
          28748.42105263158
         ],
         "type": "linear"
        },
        "yaxis": {
         "autorange": true,
         "range": [
          -0.5,
          50.5
         ],
         "type": "category"
        }
       }
      },
      "image/png": "[encoded data removed]",
      "text/html": [
       "<div>                            <div id=\"8848a024-d27f-4fd4-9183-c6b7502722df\" class=\"plotly-graph-div\" style=\"height:525px; width:100%;\"></div>            <script type=\"text/javascript\">                require([\"plotly\"], function(Plotly) {                    window.PLOTLYENV=window.PLOTLYENV || {};                                    if (document.getElementById(\"8848a024-d27f-4fd4-9183-c6b7502722df\")) {                    Plotly.newPlot(                        \"8848a024-d27f-4fd4-9183-c6b7502722df\",                        [{\"orientation\":\"h\",\"x\":[27311,713,99,1957,1439,4116,2297,3280,2567,1508,3302,1051,197,6158,73,2070,905,124,543,102,76,3358,1115,3318,717,811,173,212,467,995,137,1686,198,108,174,433,897,299,182,344,16,66,136,230,64,236,157,157,69,40,73],\"y\":[\"United States\",\"Australia\",\"Macao\",\"Italy\",\"Spain\",\"Switzerland\",\"Germany\",\"Norway\",\"France\",\"Portugal\",\"Austria\",\"Japan\",\"Belgium\",\"China\",\"Hong Kong\",\"Brazil\",\"Greece\",\"Indonesia\",\"South Africa\",\"Serbia\",\"Puerto Rico\",\"Poland\",\"Croatia\",\"Russia\",\"Mexico\",\"Thailand\",\"Bahrain\",\"Singapore\",\"Korea\",\"Czech Republic\",\"United Arab Emirates\",\"Netherlands\",\"Morocco\",\"England\",\"Argentina\",\"Qatar\",\"Turkey\",\"Iran\",\"Canada\",\"Malaysia\",\"Principality of Monaco\",\"Oman\",\"Philippines\",\"Cambodia\",\"Vietnam\",\"Slovenia\",\"Liechtenstein\",\"Hungary\",\"India\",\"Rwanda\",\"Latvia\"],\"type\":\"bar\"}],                        {\"template\":{\"data\":{\"histogram2dcontour\":[{\"type\":\"histogram2dcontour\",\"colorbar\":{\"outlinewidth\":0,\"ticks\":\"\"},\"colorscale\":[[0.0,\"#0d0887\"],[0.1111111111111111,\"#46039f\"],[0.2222222222222222,\"#7201a8\"],[0.3333333333333333,\"#9c179e\"],[0.4444444444444444,\"#bd3786\"],[0.5555555555555556,\"#d8576b\"],[0.6666666666666666,\"#ed7953\"],[0.7777777777777778,\"#fb9f3a\"],[0.8888888888888888,\"#fdca26\"],[1.0,\"#f0f921\"]]}],\"choropleth\":[{\"type\":\"choropleth\",\"colorbar\":{\"outlinewidth\":0,\"ticks\":\"\"}}],\"histogram2d\":[{\"type\":\"histogram2d\",\"colorbar\":{\"outlinewidth\":0,\"ticks\":\"\"},\"colorscale\":[[0.0,\"#0d0887\"],[0.1111111111111111,\"#46039f\"],[0.2222222222222222,\"#7201a8\"],[0.3333333333333333,\"#9c179e\"],[0.4444444444444444,\"#bd3786\"],[0.5555555555555556,\"#d8576b\"],[0.6666666666666666,\"#ed7953\"],[0.7777777777777778,\"#fb9f3a\"],[0.8888888888888888,\"#fdca26\"],[1.0,\"#f0f921\"]]}],\"heatmap\":[{\"type\":\"heatmap\",\"colorbar\":{\"outlinewidth\":0,\"ticks\":\"\"},\"colorscale\":[[0.0,\"#0d0887\"],[0.1111111111111111,\"#46039f\"],[0.2222222222222222,\"#7201a8\"],[0.3333333333333333,\"#9c179e\"],[0.4444444444444444,\"#bd3786\"],[0.5555555555555556,\"#d8576b\"],[0.6666666666666666,\"#ed7953\"],[0.7777777777777778,\"#fb9f3a\"],[0.8888888888888888,\"#fdca26\"],[1.0,\"#f0f921\"]]}],\"heatmapgl\":[{\"type\":\"heatmapgl\",\"colorbar\":{\"outlinewidth\":0,\"ticks\":\"\"},\"colorscale\":[[0.0,\"#0d0887\"],[0.1111111111111111,\"#46039f\"],[0.2222222222222222,\"#7201a8\"],[0.3333333333333333,\"#9c179e\"],[0.4444444444444444,\"#bd3786\"],[0.5555555555555556,\"#d8576b\"],[0.6666666666666666,\"#ed7953\"],[0.7777777777777778,\"#fb9f3a\"],[0.8888888888888888,\"#fdca26\"],[1.0,\"#f0f921\"]]}],\"contourcarpet\":[{\"type\":\"contourcarpet\",\"colorbar\":{\"outlinewidth\":0,\"ticks\":\"\"}}],\"contour\":[{\"type\":\"contour\",\"colorbar\":{\"outlinewidth\":0,\"ticks\":\"\"},\"colorscale\":[[0.0,\"#0d0887\"],[0.1111111111111111,\"#46039f\"],[0.2222222222222222,\"#7201a8\"],[0.3333333333333333,\"#9c179e\"],[0.4444444444444444,\"#bd3786\"],[0.5555555555555556,\"#d8576b\"],[0.6666666666666666,\"#ed7953\"],[0.7777777777777778,\"#fb9f3a\"],[0.8888888888888888,\"#fdca26\"],[1.0,\"#f0f921\"]]}],\"surface\":[{\"type\":\"surface\",\"colorbar\":{\"outlinewidth\":0,\"ticks\":\"\"},\"colorscale\":[[0.0,\"#0d0887\"],[0.1111111111111111,\"#46039f\"],[0.2222222222222222,\"#7201a8\"],[0.3333333333333333,\"#9c179e\"],[0.4444444444444444,\"#bd3786\"],[0.5555555555555556,\"#d8576b\"],[0.6666666666666666,\"#ed7953\"],[0.7777777777777778,\"#fb9f3a\"],[0.8888888888888888,\"#fdca26\"],[1.0,\"#f0f921\"]]}],\"mesh3d\":[{\"type\":\"mesh3d\",\"colorbar\":{\"outlinewidth\":0,\"ticks\":\"\"}}],\"scatter\":[{\"fillpattern\":{\"fillmode\":\"overlay\",\"size\":10,\"solidity\":0.2},\"type\":\"scatter\"}],\"parcoords\":[{\"type\":\"parcoords\",\"line\":{\"colorbar\":{\"outlinewidth\":0,\"ticks\":\"\"}}}],\"scatterpolargl\":[{\"type\":\"scatterpolargl\",\"marker\":{\"colorbar\":{\"outlinewidth\":0,\"ticks\":\"\"}}}],\"bar\":[{\"error_x\":{\"color\":\"#2a3f5f\"},\"error_y\":{\"color\":\"#2a3f5f\"},\"marker\":{\"line\":{\"color\":\"#E5ECF6\",\"width\":0.5},\"pattern\":{\"fillmode\":\"overlay\",\"size\":10,\"solidity\":0.2}},\"type\":\"bar\"}],\"scattergeo\":[{\"type\":\"scattergeo\",\"marker\":{\"colorbar\":{\"outlinewidth\":0,\"ticks\":\"\"}}}],\"scatterpolar\":[{\"type\":\"scatterpolar\",\"marker\":{\"colorbar\":{\"outlinewidth\":0,\"ticks\":\"\"}}}],\"histogram\":[{\"marker\":{\"pattern\":{\"fillmode\":\"overlay\",\"size\":10,\"solidity\":0.2}},\"type\":\"histogram\"}],\"scattergl\":[{\"type\":\"scattergl\",\"marker\":{\"colorbar\":{\"outlinewidth\":0,\"ticks\":\"\"}}}],\"scatter3d\":[{\"type\":\"scatter3d\",\"line\":{\"colorbar\":{\"outlinewidth\":0,\"ticks\":\"\"}},\"marker\":{\"colorbar\":{\"outlinewidth\":0,\"ticks\":\"\"}}}],\"scattermapbox\":[{\"type\":\"scattermapbox\",\"marker\":{\"colorbar\":{\"outlinewidth\":0,\"ticks\":\"\"}}}],\"scatterternary\":[{\"type\":\"scatterternary\",\"marker\":{\"colorbar\":{\"outlinewidth\":0,\"ticks\":\"\"}}}],\"scattercarpet\":[{\"type\":\"scattercarpet\",\"marker\":{\"colorbar\":{\"outlinewidth\":0,\"ticks\":\"\"}}}],\"carpet\":[{\"aaxis\":{\"endlinecolor\":\"#2a3f5f\",\"gridcolor\":\"white\",\"linecolor\":\"white\",\"minorgridcolor\":\"white\",\"startlinecolor\":\"#2a3f5f\"},\"baxis\":{\"endlinecolor\":\"#2a3f5f\",\"gridcolor\":\"white\",\"linecolor\":\"white\",\"minorgridcolor\":\"white\",\"startlinecolor\":\"#2a3f5f\"},\"type\":\"carpet\"}],\"table\":[{\"cells\":{\"fill\":{\"color\":\"#EBF0F8\"},\"line\":{\"color\":\"white\"}},\"header\":{\"fill\":{\"color\":\"#C8D4E3\"},\"line\":{\"color\":\"white\"}},\"type\":\"table\"}],\"barpolar\":[{\"marker\":{\"line\":{\"color\":\"#E5ECF6\",\"width\":0.5},\"pattern\":{\"fillmode\":\"overlay\",\"size\":10,\"solidity\":0.2}},\"type\":\"barpolar\"}],\"pie\":[{\"automargin\":true,\"type\":\"pie\"}]},\"layout\":{\"autotypenumbers\":\"strict\",\"colorway\":[\"#636efa\",\"#EF553B\",\"#00cc96\",\"#ab63fa\",\"#FFA15A\",\"#19d3f3\",\"#FF6692\",\"#B6E880\",\"#FF97FF\",\"#FECB52\"],\"font\":{\"color\":\"#2a3f5f\"},\"hovermode\":\"closest\",\"hoverlabel\":{\"align\":\"left\"},\"paper_bgcolor\":\"white\",\"plot_bgcolor\":\"#E5ECF6\",\"polar\":{\"bgcolor\":\"#E5ECF6\",\"angularaxis\":{\"gridcolor\":\"white\",\"linecolor\":\"white\",\"ticks\":\"\"},\"radialaxis\":{\"gridcolor\":\"white\",\"linecolor\":\"white\",\"ticks\":\"\"}},\"ternary\":{\"bgcolor\":\"#E5ECF6\",\"aaxis\":{\"gridcolor\":\"white\",\"linecolor\":\"white\",\"ticks\":\"\"},\"baxis\":{\"gridcolor\":\"white\",\"linecolor\":\"white\",\"ticks\":\"\"},\"caxis\":{\"gridcolor\":\"white\",\"linecolor\":\"white\",\"ticks\":\"\"}},\"coloraxis\":{\"colorbar\":{\"outlinewidth\":0,\"ticks\":\"\"}},\"colorscale\":{\"sequential\":[[0.0,\"#0d0887\"],[0.1111111111111111,\"#46039f\"],[0.2222222222222222,\"#7201a8\"],[0.3333333333333333,\"#9c179e\"],[0.4444444444444444,\"#bd3786\"],[0.5555555555555556,\"#d8576b\"],[0.6666666666666666,\"#ed7953\"],[0.7777777777777778,\"#fb9f3a\"],[0.8888888888888888,\"#fdca26\"],[1.0,\"#f0f921\"]],\"sequentialminus\":[[0.0,\"#0d0887\"],[0.1111111111111111,\"#46039f\"],[0.2222222222222222,\"#7201a8\"],[0.3333333333333333,\"#9c179e\"],[0.4444444444444444,\"#bd3786\"],[0.5555555555555556,\"#d8576b\"],[0.6666666666666666,\"#ed7953\"],[0.7777777777777778,\"#fb9f3a\"],[0.8888888888888888,\"#fdca26\"],[1.0,\"#f0f921\"]],\"diverging\":[[0,\"#8e0152\"],[0.1,\"#c51b7d\"],[0.2,\"#de77ae\"],[0.3,\"#f1b6da\"],[0.4,\"#fde0ef\"],[0.5,\"#f7f7f7\"],[0.6,\"#e6f5d0\"],[0.7,\"#b8e186\"],[0.8,\"#7fbc41\"],[0.9,\"#4d9221\"],[1,\"#276419\"]]},\"xaxis\":{\"gridcolor\":\"white\",\"linecolor\":\"white\",\"ticks\":\"\",\"title\":{\"standoff\":15},\"zerolinecolor\":\"white\",\"automargin\":true,\"zerolinewidth\":2},\"yaxis\":{\"gridcolor\":\"white\",\"linecolor\":\"white\",\"ticks\":\"\",\"title\":{\"standoff\":15},\"zerolinecolor\":\"white\",\"automargin\":true,\"zerolinewidth\":2},\"scene\":{\"xaxis\":{\"backgroundcolor\":\"#E5ECF6\",\"gridcolor\":\"white\",\"linecolor\":\"white\",\"showbackground\":true,\"ticks\":\"\",\"zerolinecolor\":\"white\",\"gridwidth\":2},\"yaxis\":{\"backgroundcolor\":\"#E5ECF6\",\"gridcolor\":\"white\",\"linecolor\":\"white\",\"showbackground\":true,\"ticks\":\"\",\"zerolinecolor\":\"white\",\"gridwidth\":2},\"zaxis\":{\"backgroundcolor\":\"#E5ECF6\",\"gridcolor\":\"white\",\"linecolor\":\"white\",\"showbackground\":true,\"ticks\":\"\",\"zerolinecolor\":\"white\",\"gridwidth\":2}},\"shapedefaults\":{\"line\":{\"color\":\"#2a3f5f\"}},\"annotationdefaults\":{\"arrowcolor\":\"#2a3f5f\",\"arrowhead\":0,\"arrowwidth\":1},\"geo\":{\"bgcolor\":\"white\",\"landcolor\":\"#E5ECF6\",\"subunitcolor\":\"white\",\"showland\":true,\"showlakes\":true,\"lakecolor\":\"white\"},\"title\":{\"x\":0.05},\"mapbox\":{\"style\":\"light\"}}}},                        {\"responsive\": true}                    ).then(function(){\n",
       "                            \n",
       "var gd = document.getElementById('8848a024-d27f-4fd4-9183-c6b7502722df');\n",
       "var x = new MutationObserver(function (mutations, observer) {{\n",
       "        var display = window.getComputedStyle(gd).display;\n",
       "        if (!display || display === 'none') {{\n",
       "            console.log([gd, 'removed!']);\n",
       "            Plotly.purge(gd);\n",
       "            observer.disconnect();\n",
       "        }}\n",
       "}});\n",
       "\n",
       "// Listen for the removal of the full notebook cells\n",
       "var notebookContainer = gd.closest('#notebook-container');\n",
       "if (notebookContainer) {{\n",
       "    x.observe(notebookContainer, {childList: true});\n",
       "}}\n",
       "\n",
       "// Listen for the clearing of the current output cell\n",
       "var outputEl = gd.closest('.output');\n",
       "if (outputEl) {{\n",
       "    x.observe(outputEl, {childList: true});\n",
       "}}\n",
       "\n",
       "                        })                };                });            </script>        </div>"
      ]
     },
     "metadata": {},
     "output_type": "display_data"
    }
   ],
   "source": [
    "fig = go.Figure(go.Bar(\n",
    "            x = list(dict.values()),\n",
    "            y = list(dict.keys()),\n",
    "            orientation='h'))\n",
    "fig.show()"
   ]
  },
  {
   "cell_type": "markdown",
   "id": "f7cd2063-fccf-40c0-aacc-72c9d7b13dbe",
   "metadata": {},
   "source": [
    "## Since the US hosts AVP tournaments as well as FIVB tournaments, let's remove it from visualization"
   ]
  },
  {
   "cell_type": "code",
   "execution_count": 54,
   "id": "09046020-b126-4b38-920e-e93aa415c2f4",
   "metadata": {},
   "outputs": [],
   "source": [
    "without_us_dict = dict.copy()\n",
    "del without_us_dict['United States']"
   ]
  },
  {
   "cell_type": "code",
   "execution_count": 57,
   "id": "62108350-0d79-4fd2-b1a5-955a5e2b04f4",
   "metadata": {},
   "outputs": [
    {
     "data": {
      "application/vnd.plotly.v1+json": {
       "config": {
        "plotlyServerURL": "https://plot.ly"
       },
       "data": [
        {
         "orientation": "h",
         "type": "bar",
         "x": [
          713,
          99,
          1957,
          1439,
          4116,
          2297,
          3280,
          2567,
          1508,
          3302,
          1051,
          197,
          6158,
          73,
          2070,
          905,
          124,
          543,
          102,
          76,
          3358,
          1115,
          3318,
          717,
          811,
          173,
          212,
          467,
          995,
          137,
          1686,
          198,
          108,
          174,
          433,
          897,
          299,
          182,
          344,
          16,
          66,
          136,
          230,
          64,
          236,
          157,
          157,
          69,
          40,
          73
         ],
         "y": [
          "Australia",
          "Macao",
          "Italy",
          "Spain",
          "Switzerland",
          "Germany",
          "Norway",
          "France",
          "Portugal",
          "Austria",
          "Japan",
          "Belgium",
          "China",
          "Hong Kong",
          "Brazil",
          "Greece",
          "Indonesia",
          "South Africa",
          "Serbia",
          "Puerto Rico",
          "Poland",
          "Croatia",
          "Russia",
          "Mexico",
          "Thailand",
          "Bahrain",
          "Singapore",
          "Korea",
          "Czech Republic",
          "United Arab Emirates",
          "Netherlands",
          "Morocco",
          "England",
          "Argentina",
          "Qatar",
          "Turkey",
          "Iran",
          "Canada",
          "Malaysia",
          "Principality of Monaco",
          "Oman",
          "Philippines",
          "Cambodia",
          "Vietnam",
          "Slovenia",
          "Liechtenstein",
          "Hungary",
          "India",
          "Rwanda",
          "Latvia"
         ]
        }
       ],
       "layout": {
        "autosize": true,
        "template": {
         "data": {
          "bar": [
           {
            "error_x": {
             "color": "#2a3f5f"
            },
            "error_y": {
             "color": "#2a3f5f"
            },
            "marker": {
             "line": {
              "color": "#E5ECF6",
              "width": 0.5
             },
             "pattern": {
              "fillmode": "overlay",
              "size": 10,
              "solidity": 0.2
             }
            },
            "type": "bar"
           }
          ],
          "barpolar": [
           {
            "marker": {
             "line": {
              "color": "#E5ECF6",
              "width": 0.5
             },
             "pattern": {
              "fillmode": "overlay",
              "size": 10,
              "solidity": 0.2
             }
            },
            "type": "barpolar"
           }
          ],
          "carpet": [
           {
            "aaxis": {
             "endlinecolor": "#2a3f5f",
             "gridcolor": "white",
             "linecolor": "white",
             "minorgridcolor": "white",
             "startlinecolor": "#2a3f5f"
            },
            "baxis": {
             "endlinecolor": "#2a3f5f",
             "gridcolor": "white",
             "linecolor": "white",
             "minorgridcolor": "white",
             "startlinecolor": "#2a3f5f"
            },
            "type": "carpet"
           }
          ],
          "choropleth": [
           {
            "colorbar": {
             "outlinewidth": 0,
             "ticks": ""
            },
            "type": "choropleth"
           }
          ],
          "contour": [
           {
            "colorbar": {
             "outlinewidth": 0,
             "ticks": ""
            },
            "colorscale": [
             [
              0,
              "#0d0887"
             ],
             [
              0.1111111111111111,
              "#46039f"
             ],
             [
              0.2222222222222222,
              "#7201a8"
             ],
             [
              0.3333333333333333,
              "#9c179e"
             ],
             [
              0.4444444444444444,
              "#bd3786"
             ],
             [
              0.5555555555555556,
              "#d8576b"
             ],
             [
              0.6666666666666666,
              "#ed7953"
             ],
             [
              0.7777777777777778,
              "#fb9f3a"
             ],
             [
              0.8888888888888888,
              "#fdca26"
             ],
             [
              1,
              "#f0f921"
             ]
            ],
            "type": "contour"
           }
          ],
          "contourcarpet": [
           {
            "colorbar": {
             "outlinewidth": 0,
             "ticks": ""
            },
            "type": "contourcarpet"
           }
          ],
          "heatmap": [
           {
            "colorbar": {
             "outlinewidth": 0,
             "ticks": ""
            },
            "colorscale": [
             [
              0,
              "#0d0887"
             ],
             [
              0.1111111111111111,
              "#46039f"
             ],
             [
              0.2222222222222222,
              "#7201a8"
             ],
             [
              0.3333333333333333,
              "#9c179e"
             ],
             [
              0.4444444444444444,
              "#bd3786"
             ],
             [
              0.5555555555555556,
              "#d8576b"
             ],
             [
              0.6666666666666666,
              "#ed7953"
             ],
             [
              0.7777777777777778,
              "#fb9f3a"
             ],
             [
              0.8888888888888888,
              "#fdca26"
             ],
             [
              1,
              "#f0f921"
             ]
            ],
            "type": "heatmap"
           }
          ],
          "heatmapgl": [
           {
            "colorbar": {
             "outlinewidth": 0,
             "ticks": ""
            },
            "colorscale": [
             [
              0,
              "#0d0887"
             ],
             [
              0.1111111111111111,
              "#46039f"
             ],
             [
              0.2222222222222222,
              "#7201a8"
             ],
             [
              0.3333333333333333,
              "#9c179e"
             ],
             [
              0.4444444444444444,
              "#bd3786"
             ],
             [
              0.5555555555555556,
              "#d8576b"
             ],
             [
              0.6666666666666666,
              "#ed7953"
             ],
             [
              0.7777777777777778,
              "#fb9f3a"
             ],
             [
              0.8888888888888888,
              "#fdca26"
             ],
             [
              1,
              "#f0f921"
             ]
            ],
            "type": "heatmapgl"
           }
          ],
          "histogram": [
           {
            "marker": {
             "pattern": {
              "fillmode": "overlay",
              "size": 10,
              "solidity": 0.2
             }
            },
            "type": "histogram"
           }
          ],
          "histogram2d": [
           {
            "colorbar": {
             "outlinewidth": 0,
             "ticks": ""
            },
            "colorscale": [
             [
              0,
              "#0d0887"
             ],
             [
              0.1111111111111111,
              "#46039f"
             ],
             [
              0.2222222222222222,
              "#7201a8"
             ],
             [
              0.3333333333333333,
              "#9c179e"
             ],
             [
              0.4444444444444444,
              "#bd3786"
             ],
             [
              0.5555555555555556,
              "#d8576b"
             ],
             [
              0.6666666666666666,
              "#ed7953"
             ],
             [
              0.7777777777777778,
              "#fb9f3a"
             ],
             [
              0.8888888888888888,
              "#fdca26"
             ],
             [
              1,
              "#f0f921"
             ]
            ],
            "type": "histogram2d"
           }
          ],
          "histogram2dcontour": [
           {
            "colorbar": {
             "outlinewidth": 0,
             "ticks": ""
            },
            "colorscale": [
             [
              0,
              "#0d0887"
             ],
             [
              0.1111111111111111,
              "#46039f"
             ],
             [
              0.2222222222222222,
              "#7201a8"
             ],
             [
              0.3333333333333333,
              "#9c179e"
             ],
             [
              0.4444444444444444,
              "#bd3786"
             ],
             [
              0.5555555555555556,
              "#d8576b"
             ],
             [
              0.6666666666666666,
              "#ed7953"
             ],
             [
              0.7777777777777778,
              "#fb9f3a"
             ],
             [
              0.8888888888888888,
              "#fdca26"
             ],
             [
              1,
              "#f0f921"
             ]
            ],
            "type": "histogram2dcontour"
           }
          ],
          "mesh3d": [
           {
            "colorbar": {
             "outlinewidth": 0,
             "ticks": ""
            },
            "type": "mesh3d"
           }
          ],
          "parcoords": [
           {
            "line": {
             "colorbar": {
              "outlinewidth": 0,
              "ticks": ""
             }
            },
            "type": "parcoords"
           }
          ],
          "pie": [
           {
            "automargin": true,
            "type": "pie"
           }
          ],
          "scatter": [
           {
            "fillpattern": {
             "fillmode": "overlay",
             "size": 10,
             "solidity": 0.2
            },
            "type": "scatter"
           }
          ],
          "scatter3d": [
           {
            "line": {
             "colorbar": {
              "outlinewidth": 0,
              "ticks": ""
             }
            },
            "marker": {
             "colorbar": {
              "outlinewidth": 0,
              "ticks": ""
             }
            },
            "type": "scatter3d"
           }
          ],
          "scattercarpet": [
           {
            "marker": {
             "colorbar": {
              "outlinewidth": 0,
              "ticks": ""
             }
            },
            "type": "scattercarpet"
           }
          ],
          "scattergeo": [
           {
            "marker": {
             "colorbar": {
              "outlinewidth": 0,
              "ticks": ""
             }
            },
            "type": "scattergeo"
           }
          ],
          "scattergl": [
           {
            "marker": {
             "colorbar": {
              "outlinewidth": 0,
              "ticks": ""
             }
            },
            "type": "scattergl"
           }
          ],
          "scattermapbox": [
           {
            "marker": {
             "colorbar": {
              "outlinewidth": 0,
              "ticks": ""
             }
            },
            "type": "scattermapbox"
           }
          ],
          "scatterpolar": [
           {
            "marker": {
             "colorbar": {
              "outlinewidth": 0,
              "ticks": ""
             }
            },
            "type": "scatterpolar"
           }
          ],
          "scatterpolargl": [
           {
            "marker": {
             "colorbar": {
              "outlinewidth": 0,
              "ticks": ""
             }
            },
            "type": "scatterpolargl"
           }
          ],
          "scatterternary": [
           {
            "marker": {
             "colorbar": {
              "outlinewidth": 0,
              "ticks": ""
             }
            },
            "type": "scatterternary"
           }
          ],
          "surface": [
           {
            "colorbar": {
             "outlinewidth": 0,
             "ticks": ""
            },
            "colorscale": [
             [
              0,
              "#0d0887"
             ],
             [
              0.1111111111111111,
              "#46039f"
             ],
             [
              0.2222222222222222,
              "#7201a8"
             ],
             [
              0.3333333333333333,
              "#9c179e"
             ],
             [
              0.4444444444444444,
              "#bd3786"
             ],
             [
              0.5555555555555556,
              "#d8576b"
             ],
             [
              0.6666666666666666,
              "#ed7953"
             ],
             [
              0.7777777777777778,
              "#fb9f3a"
             ],
             [
              0.8888888888888888,
              "#fdca26"
             ],
             [
              1,
              "#f0f921"
             ]
            ],
            "type": "surface"
           }
          ],
          "table": [
           {
            "cells": {
             "fill": {
              "color": "#EBF0F8"
             },
             "line": {
              "color": "white"
             }
            },
            "header": {
             "fill": {
              "color": "#C8D4E3"
             },
             "line": {
              "color": "white"
             }
            },
            "type": "table"
           }
          ]
         },
         "layout": {
          "annotationdefaults": {
           "arrowcolor": "#2a3f5f",
           "arrowhead": 0,
           "arrowwidth": 1
          },
          "autotypenumbers": "strict",
          "coloraxis": {
           "colorbar": {
            "outlinewidth": 0,
            "ticks": ""
           }
          },
          "colorscale": {
           "diverging": [
            [
             0,
             "#8e0152"
            ],
            [
             0.1,
             "#c51b7d"
            ],
            [
             0.2,
             "#de77ae"
            ],
            [
             0.3,
             "#f1b6da"
            ],
            [
             0.4,
             "#fde0ef"
            ],
            [
             0.5,
             "#f7f7f7"
            ],
            [
             0.6,
             "#e6f5d0"
            ],
            [
             0.7,
             "#b8e186"
            ],
            [
             0.8,
             "#7fbc41"
            ],
            [
             0.9,
             "#4d9221"
            ],
            [
             1,
             "#276419"
            ]
           ],
           "sequential": [
            [
             0,
             "#0d0887"
            ],
            [
             0.1111111111111111,
             "#46039f"
            ],
            [
             0.2222222222222222,
             "#7201a8"
            ],
            [
             0.3333333333333333,
             "#9c179e"
            ],
            [
             0.4444444444444444,
             "#bd3786"
            ],
            [
             0.5555555555555556,
             "#d8576b"
            ],
            [
             0.6666666666666666,
             "#ed7953"
            ],
            [
             0.7777777777777778,
             "#fb9f3a"
            ],
            [
             0.8888888888888888,
             "#fdca26"
            ],
            [
             1,
             "#f0f921"
            ]
           ],
           "sequentialminus": [
            [
             0,
             "#0d0887"
            ],
            [
             0.1111111111111111,
             "#46039f"
            ],
            [
             0.2222222222222222,
             "#7201a8"
            ],
            [
             0.3333333333333333,
             "#9c179e"
            ],
            [
             0.4444444444444444,
             "#bd3786"
            ],
            [
             0.5555555555555556,
             "#d8576b"
            ],
            [
             0.6666666666666666,
             "#ed7953"
            ],
            [
             0.7777777777777778,
             "#fb9f3a"
            ],
            [
             0.8888888888888888,
             "#fdca26"
            ],
            [
             1,
             "#f0f921"
            ]
           ]
          },
          "colorway": [
           "#636efa",
           "#EF553B",
           "#00cc96",
           "#ab63fa",
           "#FFA15A",
           "#19d3f3",
           "#FF6692",
           "#B6E880",
           "#FF97FF",
           "#FECB52"
          ],
          "font": {
           "color": "#2a3f5f"
          },
          "geo": {
           "bgcolor": "white",
           "lakecolor": "white",
           "landcolor": "#E5ECF6",
           "showlakes": true,
           "showland": true,
           "subunitcolor": "white"
          },
          "hoverlabel": {
           "align": "left"
          },
          "hovermode": "closest",
          "mapbox": {
           "style": "light"
          },
          "paper_bgcolor": "white",
          "plot_bgcolor": "#E5ECF6",
          "polar": {
           "angularaxis": {
            "gridcolor": "white",
            "linecolor": "white",
            "ticks": ""
           },
           "bgcolor": "#E5ECF6",
           "radialaxis": {
            "gridcolor": "white",
            "linecolor": "white",
            "ticks": ""
           }
          },
          "scene": {
           "xaxis": {
            "backgroundcolor": "#E5ECF6",
            "gridcolor": "white",
            "gridwidth": 2,
            "linecolor": "white",
            "showbackground": true,
            "ticks": "",
            "zerolinecolor": "white"
           },
           "yaxis": {
            "backgroundcolor": "#E5ECF6",
            "gridcolor": "white",
            "gridwidth": 2,
            "linecolor": "white",
            "showbackground": true,
            "ticks": "",
            "zerolinecolor": "white"
           },
           "zaxis": {
            "backgroundcolor": "#E5ECF6",
            "gridcolor": "white",
            "gridwidth": 2,
            "linecolor": "white",
            "showbackground": true,
            "ticks": "",
            "zerolinecolor": "white"
           }
          },
          "shapedefaults": {
           "line": {
            "color": "#2a3f5f"
           }
          },
          "ternary": {
           "aaxis": {
            "gridcolor": "white",
            "linecolor": "white",
            "ticks": ""
           },
           "baxis": {
            "gridcolor": "white",
            "linecolor": "white",
            "ticks": ""
           },
           "bgcolor": "#E5ECF6",
           "caxis": {
            "gridcolor": "white",
            "linecolor": "white",
            "ticks": ""
           }
          },
          "title": {
           "x": 0.05
          },
          "xaxis": {
           "automargin": true,
           "gridcolor": "white",
           "linecolor": "white",
           "ticks": "",
           "title": {
            "standoff": 15
           },
           "zerolinecolor": "white",
           "zerolinewidth": 2
          },
          "yaxis": {
           "automargin": true,
           "gridcolor": "white",
           "linecolor": "white",
           "ticks": "",
           "title": {
            "standoff": 15
           },
           "zerolinecolor": "white",
           "zerolinewidth": 2
          }
         }
        },
        "xaxis": {
         "autorange": true,
         "range": [
          0,
          6482.105263157895
         ],
         "type": "linear"
        },
        "yaxis": {
         "autorange": true,
         "range": [
          -0.5,
          49.5
         ],
         "type": "category"
        }
       }
      },
      "image/png": "[encoded data removed]",
      "text/html": [
       "<div>                            <div id=\"260fadc9-2472-4934-b714-4f535c88df39\" class=\"plotly-graph-div\" style=\"height:525px; width:100%;\"></div>            <script type=\"text/javascript\">                require([\"plotly\"], function(Plotly) {                    window.PLOTLYENV=window.PLOTLYENV || {};                                    if (document.getElementById(\"260fadc9-2472-4934-b714-4f535c88df39\")) {                    Plotly.newPlot(                        \"260fadc9-2472-4934-b714-4f535c88df39\",                        [{\"orientation\":\"h\",\"x\":[713,99,1957,1439,4116,2297,3280,2567,1508,3302,1051,197,6158,73,2070,905,124,543,102,76,3358,1115,3318,717,811,173,212,467,995,137,1686,198,108,174,433,897,299,182,344,16,66,136,230,64,236,157,157,69,40,73],\"y\":[\"Australia\",\"Macao\",\"Italy\",\"Spain\",\"Switzerland\",\"Germany\",\"Norway\",\"France\",\"Portugal\",\"Austria\",\"Japan\",\"Belgium\",\"China\",\"Hong Kong\",\"Brazil\",\"Greece\",\"Indonesia\",\"South Africa\",\"Serbia\",\"Puerto Rico\",\"Poland\",\"Croatia\",\"Russia\",\"Mexico\",\"Thailand\",\"Bahrain\",\"Singapore\",\"Korea\",\"Czech Republic\",\"United Arab Emirates\",\"Netherlands\",\"Morocco\",\"England\",\"Argentina\",\"Qatar\",\"Turkey\",\"Iran\",\"Canada\",\"Malaysia\",\"Principality of Monaco\",\"Oman\",\"Philippines\",\"Cambodia\",\"Vietnam\",\"Slovenia\",\"Liechtenstein\",\"Hungary\",\"India\",\"Rwanda\",\"Latvia\"],\"type\":\"bar\"}],                        {\"template\":{\"data\":{\"histogram2dcontour\":[{\"type\":\"histogram2dcontour\",\"colorbar\":{\"outlinewidth\":0,\"ticks\":\"\"},\"colorscale\":[[0.0,\"#0d0887\"],[0.1111111111111111,\"#46039f\"],[0.2222222222222222,\"#7201a8\"],[0.3333333333333333,\"#9c179e\"],[0.4444444444444444,\"#bd3786\"],[0.5555555555555556,\"#d8576b\"],[0.6666666666666666,\"#ed7953\"],[0.7777777777777778,\"#fb9f3a\"],[0.8888888888888888,\"#fdca26\"],[1.0,\"#f0f921\"]]}],\"choropleth\":[{\"type\":\"choropleth\",\"colorbar\":{\"outlinewidth\":0,\"ticks\":\"\"}}],\"histogram2d\":[{\"type\":\"histogram2d\",\"colorbar\":{\"outlinewidth\":0,\"ticks\":\"\"},\"colorscale\":[[0.0,\"#0d0887\"],[0.1111111111111111,\"#46039f\"],[0.2222222222222222,\"#7201a8\"],[0.3333333333333333,\"#9c179e\"],[0.4444444444444444,\"#bd3786\"],[0.5555555555555556,\"#d8576b\"],[0.6666666666666666,\"#ed7953\"],[0.7777777777777778,\"#fb9f3a\"],[0.8888888888888888,\"#fdca26\"],[1.0,\"#f0f921\"]]}],\"heatmap\":[{\"type\":\"heatmap\",\"colorbar\":{\"outlinewidth\":0,\"ticks\":\"\"},\"colorscale\":[[0.0,\"#0d0887\"],[0.1111111111111111,\"#46039f\"],[0.2222222222222222,\"#7201a8\"],[0.3333333333333333,\"#9c179e\"],[0.4444444444444444,\"#bd3786\"],[0.5555555555555556,\"#d8576b\"],[0.6666666666666666,\"#ed7953\"],[0.7777777777777778,\"#fb9f3a\"],[0.8888888888888888,\"#fdca26\"],[1.0,\"#f0f921\"]]}],\"heatmapgl\":[{\"type\":\"heatmapgl\",\"colorbar\":{\"outlinewidth\":0,\"ticks\":\"\"},\"colorscale\":[[0.0,\"#0d0887\"],[0.1111111111111111,\"#46039f\"],[0.2222222222222222,\"#7201a8\"],[0.3333333333333333,\"#9c179e\"],[0.4444444444444444,\"#bd3786\"],[0.5555555555555556,\"#d8576b\"],[0.6666666666666666,\"#ed7953\"],[0.7777777777777778,\"#fb9f3a\"],[0.8888888888888888,\"#fdca26\"],[1.0,\"#f0f921\"]]}],\"contourcarpet\":[{\"type\":\"contourcarpet\",\"colorbar\":{\"outlinewidth\":0,\"ticks\":\"\"}}],\"contour\":[{\"type\":\"contour\",\"colorbar\":{\"outlinewidth\":0,\"ticks\":\"\"},\"colorscale\":[[0.0,\"#0d0887\"],[0.1111111111111111,\"#46039f\"],[0.2222222222222222,\"#7201a8\"],[0.3333333333333333,\"#9c179e\"],[0.4444444444444444,\"#bd3786\"],[0.5555555555555556,\"#d8576b\"],[0.6666666666666666,\"#ed7953\"],[0.7777777777777778,\"#fb9f3a\"],[0.8888888888888888,\"#fdca26\"],[1.0,\"#f0f921\"]]}],\"surface\":[{\"type\":\"surface\",\"colorbar\":{\"outlinewidth\":0,\"ticks\":\"\"},\"colorscale\":[[0.0,\"#0d0887\"],[0.1111111111111111,\"#46039f\"],[0.2222222222222222,\"#7201a8\"],[0.3333333333333333,\"#9c179e\"],[0.4444444444444444,\"#bd3786\"],[0.5555555555555556,\"#d8576b\"],[0.6666666666666666,\"#ed7953\"],[0.7777777777777778,\"#fb9f3a\"],[0.8888888888888888,\"#fdca26\"],[1.0,\"#f0f921\"]]}],\"mesh3d\":[{\"type\":\"mesh3d\",\"colorbar\":{\"outlinewidth\":0,\"ticks\":\"\"}}],\"scatter\":[{\"fillpattern\":{\"fillmode\":\"overlay\",\"size\":10,\"solidity\":0.2},\"type\":\"scatter\"}],\"parcoords\":[{\"type\":\"parcoords\",\"line\":{\"colorbar\":{\"outlinewidth\":0,\"ticks\":\"\"}}}],\"scatterpolargl\":[{\"type\":\"scatterpolargl\",\"marker\":{\"colorbar\":{\"outlinewidth\":0,\"ticks\":\"\"}}}],\"bar\":[{\"error_x\":{\"color\":\"#2a3f5f\"},\"error_y\":{\"color\":\"#2a3f5f\"},\"marker\":{\"line\":{\"color\":\"#E5ECF6\",\"width\":0.5},\"pattern\":{\"fillmode\":\"overlay\",\"size\":10,\"solidity\":0.2}},\"type\":\"bar\"}],\"scattergeo\":[{\"type\":\"scattergeo\",\"marker\":{\"colorbar\":{\"outlinewidth\":0,\"ticks\":\"\"}}}],\"scatterpolar\":[{\"type\":\"scatterpolar\",\"marker\":{\"colorbar\":{\"outlinewidth\":0,\"ticks\":\"\"}}}],\"histogram\":[{\"marker\":{\"pattern\":{\"fillmode\":\"overlay\",\"size\":10,\"solidity\":0.2}},\"type\":\"histogram\"}],\"scattergl\":[{\"type\":\"scattergl\",\"marker\":{\"colorbar\":{\"outlinewidth\":0,\"ticks\":\"\"}}}],\"scatter3d\":[{\"type\":\"scatter3d\",\"line\":{\"colorbar\":{\"outlinewidth\":0,\"ticks\":\"\"}},\"marker\":{\"colorbar\":{\"outlinewidth\":0,\"ticks\":\"\"}}}],\"scattermapbox\":[{\"type\":\"scattermapbox\",\"marker\":{\"colorbar\":{\"outlinewidth\":0,\"ticks\":\"\"}}}],\"scatterternary\":[{\"type\":\"scatterternary\",\"marker\":{\"colorbar\":{\"outlinewidth\":0,\"ticks\":\"\"}}}],\"scattercarpet\":[{\"type\":\"scattercarpet\",\"marker\":{\"colorbar\":{\"outlinewidth\":0,\"ticks\":\"\"}}}],\"carpet\":[{\"aaxis\":{\"endlinecolor\":\"#2a3f5f\",\"gridcolor\":\"white\",\"linecolor\":\"white\",\"minorgridcolor\":\"white\",\"startlinecolor\":\"#2a3f5f\"},\"baxis\":{\"endlinecolor\":\"#2a3f5f\",\"gridcolor\":\"white\",\"linecolor\":\"white\",\"minorgridcolor\":\"white\",\"startlinecolor\":\"#2a3f5f\"},\"type\":\"carpet\"}],\"table\":[{\"cells\":{\"fill\":{\"color\":\"#EBF0F8\"},\"line\":{\"color\":\"white\"}},\"header\":{\"fill\":{\"color\":\"#C8D4E3\"},\"line\":{\"color\":\"white\"}},\"type\":\"table\"}],\"barpolar\":[{\"marker\":{\"line\":{\"color\":\"#E5ECF6\",\"width\":0.5},\"pattern\":{\"fillmode\":\"overlay\",\"size\":10,\"solidity\":0.2}},\"type\":\"barpolar\"}],\"pie\":[{\"automargin\":true,\"type\":\"pie\"}]},\"layout\":{\"autotypenumbers\":\"strict\",\"colorway\":[\"#636efa\",\"#EF553B\",\"#00cc96\",\"#ab63fa\",\"#FFA15A\",\"#19d3f3\",\"#FF6692\",\"#B6E880\",\"#FF97FF\",\"#FECB52\"],\"font\":{\"color\":\"#2a3f5f\"},\"hovermode\":\"closest\",\"hoverlabel\":{\"align\":\"left\"},\"paper_bgcolor\":\"white\",\"plot_bgcolor\":\"#E5ECF6\",\"polar\":{\"bgcolor\":\"#E5ECF6\",\"angularaxis\":{\"gridcolor\":\"white\",\"linecolor\":\"white\",\"ticks\":\"\"},\"radialaxis\":{\"gridcolor\":\"white\",\"linecolor\":\"white\",\"ticks\":\"\"}},\"ternary\":{\"bgcolor\":\"#E5ECF6\",\"aaxis\":{\"gridcolor\":\"white\",\"linecolor\":\"white\",\"ticks\":\"\"},\"baxis\":{\"gridcolor\":\"white\",\"linecolor\":\"white\",\"ticks\":\"\"},\"caxis\":{\"gridcolor\":\"white\",\"linecolor\":\"white\",\"ticks\":\"\"}},\"coloraxis\":{\"colorbar\":{\"outlinewidth\":0,\"ticks\":\"\"}},\"colorscale\":{\"sequential\":[[0.0,\"#0d0887\"],[0.1111111111111111,\"#46039f\"],[0.2222222222222222,\"#7201a8\"],[0.3333333333333333,\"#9c179e\"],[0.4444444444444444,\"#bd3786\"],[0.5555555555555556,\"#d8576b\"],[0.6666666666666666,\"#ed7953\"],[0.7777777777777778,\"#fb9f3a\"],[0.8888888888888888,\"#fdca26\"],[1.0,\"#f0f921\"]],\"sequentialminus\":[[0.0,\"#0d0887\"],[0.1111111111111111,\"#46039f\"],[0.2222222222222222,\"#7201a8\"],[0.3333333333333333,\"#9c179e\"],[0.4444444444444444,\"#bd3786\"],[0.5555555555555556,\"#d8576b\"],[0.6666666666666666,\"#ed7953\"],[0.7777777777777778,\"#fb9f3a\"],[0.8888888888888888,\"#fdca26\"],[1.0,\"#f0f921\"]],\"diverging\":[[0,\"#8e0152\"],[0.1,\"#c51b7d\"],[0.2,\"#de77ae\"],[0.3,\"#f1b6da\"],[0.4,\"#fde0ef\"],[0.5,\"#f7f7f7\"],[0.6,\"#e6f5d0\"],[0.7,\"#b8e186\"],[0.8,\"#7fbc41\"],[0.9,\"#4d9221\"],[1,\"#276419\"]]},\"xaxis\":{\"gridcolor\":\"white\",\"linecolor\":\"white\",\"ticks\":\"\",\"title\":{\"standoff\":15},\"zerolinecolor\":\"white\",\"automargin\":true,\"zerolinewidth\":2},\"yaxis\":{\"gridcolor\":\"white\",\"linecolor\":\"white\",\"ticks\":\"\",\"title\":{\"standoff\":15},\"zerolinecolor\":\"white\",\"automargin\":true,\"zerolinewidth\":2},\"scene\":{\"xaxis\":{\"backgroundcolor\":\"#E5ECF6\",\"gridcolor\":\"white\",\"linecolor\":\"white\",\"showbackground\":true,\"ticks\":\"\",\"zerolinecolor\":\"white\",\"gridwidth\":2},\"yaxis\":{\"backgroundcolor\":\"#E5ECF6\",\"gridcolor\":\"white\",\"linecolor\":\"white\",\"showbackground\":true,\"ticks\":\"\",\"zerolinecolor\":\"white\",\"gridwidth\":2},\"zaxis\":{\"backgroundcolor\":\"#E5ECF6\",\"gridcolor\":\"white\",\"linecolor\":\"white\",\"showbackground\":true,\"ticks\":\"\",\"zerolinecolor\":\"white\",\"gridwidth\":2}},\"shapedefaults\":{\"line\":{\"color\":\"#2a3f5f\"}},\"annotationdefaults\":{\"arrowcolor\":\"#2a3f5f\",\"arrowhead\":0,\"arrowwidth\":1},\"geo\":{\"bgcolor\":\"white\",\"landcolor\":\"#E5ECF6\",\"subunitcolor\":\"white\",\"showland\":true,\"showlakes\":true,\"lakecolor\":\"white\"},\"title\":{\"x\":0.05},\"mapbox\":{\"style\":\"light\"}}}},                        {\"responsive\": true}                    ).then(function(){\n",
       "                            \n",
       "var gd = document.getElementById('260fadc9-2472-4934-b714-4f535c88df39');\n",
       "var x = new MutationObserver(function (mutations, observer) {{\n",
       "        var display = window.getComputedStyle(gd).display;\n",
       "        if (!display || display === 'none') {{\n",
       "            console.log([gd, 'removed!']);\n",
       "            Plotly.purge(gd);\n",
       "            observer.disconnect();\n",
       "        }}\n",
       "}});\n",
       "\n",
       "// Listen for the removal of the full notebook cells\n",
       "var notebookContainer = gd.closest('#notebook-container');\n",
       "if (notebookContainer) {{\n",
       "    x.observe(notebookContainer, {childList: true});\n",
       "}}\n",
       "\n",
       "// Listen for the clearing of the current output cell\n",
       "var outputEl = gd.closest('.output');\n",
       "if (outputEl) {{\n",
       "    x.observe(outputEl, {childList: true});\n",
       "}}\n",
       "\n",
       "                        })                };                });            </script>        </div>"
      ]
     },
     "metadata": {},
     "output_type": "display_data"
    }
   ],
   "source": [
    "fig = go.Figure(go.Bar(\n",
    "            x = list(without_us_dict.values()),\n",
    "            y = list(without_us_dict.keys()),\n",
    "            orientation='h'))\n",
    "fig.show()"
   ]
  },
  {
   "cell_type": "markdown",
   "id": "abd7b6ff-9493-4590-b770-1b8608aba5c2",
   "metadata": {},
   "source": [
    "#### Looks like China has the second most number of tournaments (6158), followed by Switzerland (4116), and Poland (3358)"
   ]
  },
  {
   "cell_type": "markdown",
   "id": "365447f4-3270-4bcd-a3fc-6c69ede6a64c",
   "metadata": {},
   "source": [
    "# What percentage of the tournaments held by the US are AVP vs FIVB?"
   ]
  },
  {
   "cell_type": "code",
   "execution_count": 139,
   "id": "3c99115f-1bbb-46e4-acde-9018c2a2f8e7",
   "metadata": {},
   "outputs": [
    {
     "data": {
      "text/plain": [
       "circuit\n",
       "AVP     25353\n",
       "FIVB     1958\n",
       "Name: count, dtype: int64"
      ]
     },
     "execution_count": 139,
     "metadata": {},
     "output_type": "execute_result"
    }
   ],
   "source": [
    "# Use groupby to get the frequency of circuit in the US\n",
    "frequency = df.query('country == \"United States\"')['circuit'].value_counts()\n",
    "frequency"
   ]
  },
  {
   "cell_type": "code",
   "execution_count": 140,
   "id": "4d50b89a-1d84-456f-b2ee-5f6d1c5bd390",
   "metadata": {},
   "outputs": [
    {
     "data": {
      "text/plain": [
       "{'AVP': 25353, 'FIVB': 1958}"
      ]
     },
     "execution_count": 140,
     "metadata": {},
     "output_type": "execute_result"
    }
   ],
   "source": [
    "def get_frequency(series):\n",
    "    \"\"\"\n",
    "    get_frequency gives a dictionary where the keys are the types of circuit\n",
    "    (AVP / FIVB) and the values are the frequency of the tournament in the US\n",
    "\n",
    "    :series: pandas DataFrame\n",
    "    :return: list of dictionary of frequency of circuit in the US\n",
    "    \"\"\"\n",
    "    dict = {}\n",
    "    for value in series.index:\n",
    "        dict[value] = series[value]\n",
    "    return dict\n",
    "        \n",
    "frequency_dict = get_frequency(frequency)\n",
    "frequency_dict"
   ]
  },
  {
   "cell_type": "code",
   "execution_count": 141,
   "id": "3be24bf8-cd4f-42be-b60d-4088d907fb4d",
   "metadata": {},
   "outputs": [
    {
     "data": {
      "application/vnd.plotly.v1+json": {
       "config": {
        "plotlyServerURL": "https://plot.ly"
       },
       "data": [
        {
         "marker": {
          "color": "rgba(246, 78, 139, 0.6)",
          "line": {
           "color": "rgba(246, 78, 139, 1.0)",
           "width": 3
          }
         },
         "name": "AVP",
         "orientation": "h",
         "type": "bar",
         "x": [
          25353
         ],
         "y": [
          "United States"
         ]
        },
        {
         "marker": {
          "color": "rgba(58, 71, 80, 0.6)",
          "line": {
           "color": "rgba(58, 71, 80, 1.0)",
           "width": 3
          }
         },
         "name": "FIVB",
         "orientation": "h",
         "type": "bar",
         "x": [
          1958
         ],
         "y": [
          "United States"
         ]
        }
       ],
       "layout": {
        "autosize": true,
        "barmode": "stack",
        "template": {
         "data": {
          "bar": [
           {
            "error_x": {
             "color": "#2a3f5f"
            },
            "error_y": {
             "color": "#2a3f5f"
            },
            "marker": {
             "line": {
              "color": "#E5ECF6",
              "width": 0.5
             },
             "pattern": {
              "fillmode": "overlay",
              "size": 10,
              "solidity": 0.2
             }
            },
            "type": "bar"
           }
          ],
          "barpolar": [
           {
            "marker": {
             "line": {
              "color": "#E5ECF6",
              "width": 0.5
             },
             "pattern": {
              "fillmode": "overlay",
              "size": 10,
              "solidity": 0.2
             }
            },
            "type": "barpolar"
           }
          ],
          "carpet": [
           {
            "aaxis": {
             "endlinecolor": "#2a3f5f",
             "gridcolor": "white",
             "linecolor": "white",
             "minorgridcolor": "white",
             "startlinecolor": "#2a3f5f"
            },
            "baxis": {
             "endlinecolor": "#2a3f5f",
             "gridcolor": "white",
             "linecolor": "white",
             "minorgridcolor": "white",
             "startlinecolor": "#2a3f5f"
            },
            "type": "carpet"
           }
          ],
          "choropleth": [
           {
            "colorbar": {
             "outlinewidth": 0,
             "ticks": ""
            },
            "type": "choropleth"
           }
          ],
          "contour": [
           {
            "colorbar": {
             "outlinewidth": 0,
             "ticks": ""
            },
            "colorscale": [
             [
              0,
              "#0d0887"
             ],
             [
              0.1111111111111111,
              "#46039f"
             ],
             [
              0.2222222222222222,
              "#7201a8"
             ],
             [
              0.3333333333333333,
              "#9c179e"
             ],
             [
              0.4444444444444444,
              "#bd3786"
             ],
             [
              0.5555555555555556,
              "#d8576b"
             ],
             [
              0.6666666666666666,
              "#ed7953"
             ],
             [
              0.7777777777777778,
              "#fb9f3a"
             ],
             [
              0.8888888888888888,
              "#fdca26"
             ],
             [
              1,
              "#f0f921"
             ]
            ],
            "type": "contour"
           }
          ],
          "contourcarpet": [
           {
            "colorbar": {
             "outlinewidth": 0,
             "ticks": ""
            },
            "type": "contourcarpet"
           }
          ],
          "heatmap": [
           {
            "colorbar": {
             "outlinewidth": 0,
             "ticks": ""
            },
            "colorscale": [
             [
              0,
              "#0d0887"
             ],
             [
              0.1111111111111111,
              "#46039f"
             ],
             [
              0.2222222222222222,
              "#7201a8"
             ],
             [
              0.3333333333333333,
              "#9c179e"
             ],
             [
              0.4444444444444444,
              "#bd3786"
             ],
             [
              0.5555555555555556,
              "#d8576b"
             ],
             [
              0.6666666666666666,
              "#ed7953"
             ],
             [
              0.7777777777777778,
              "#fb9f3a"
             ],
             [
              0.8888888888888888,
              "#fdca26"
             ],
             [
              1,
              "#f0f921"
             ]
            ],
            "type": "heatmap"
           }
          ],
          "heatmapgl": [
           {
            "colorbar": {
             "outlinewidth": 0,
             "ticks": ""
            },
            "colorscale": [
             [
              0,
              "#0d0887"
             ],
             [
              0.1111111111111111,
              "#46039f"
             ],
             [
              0.2222222222222222,
              "#7201a8"
             ],
             [
              0.3333333333333333,
              "#9c179e"
             ],
             [
              0.4444444444444444,
              "#bd3786"
             ],
             [
              0.5555555555555556,
              "#d8576b"
             ],
             [
              0.6666666666666666,
              "#ed7953"
             ],
             [
              0.7777777777777778,
              "#fb9f3a"
             ],
             [
              0.8888888888888888,
              "#fdca26"
             ],
             [
              1,
              "#f0f921"
             ]
            ],
            "type": "heatmapgl"
           }
          ],
          "histogram": [
           {
            "marker": {
             "pattern": {
              "fillmode": "overlay",
              "size": 10,
              "solidity": 0.2
             }
            },
            "type": "histogram"
           }
          ],
          "histogram2d": [
           {
            "colorbar": {
             "outlinewidth": 0,
             "ticks": ""
            },
            "colorscale": [
             [
              0,
              "#0d0887"
             ],
             [
              0.1111111111111111,
              "#46039f"
             ],
             [
              0.2222222222222222,
              "#7201a8"
             ],
             [
              0.3333333333333333,
              "#9c179e"
             ],
             [
              0.4444444444444444,
              "#bd3786"
             ],
             [
              0.5555555555555556,
              "#d8576b"
             ],
             [
              0.6666666666666666,
              "#ed7953"
             ],
             [
              0.7777777777777778,
              "#fb9f3a"
             ],
             [
              0.8888888888888888,
              "#fdca26"
             ],
             [
              1,
              "#f0f921"
             ]
            ],
            "type": "histogram2d"
           }
          ],
          "histogram2dcontour": [
           {
            "colorbar": {
             "outlinewidth": 0,
             "ticks": ""
            },
            "colorscale": [
             [
              0,
              "#0d0887"
             ],
             [
              0.1111111111111111,
              "#46039f"
             ],
             [
              0.2222222222222222,
              "#7201a8"
             ],
             [
              0.3333333333333333,
              "#9c179e"
             ],
             [
              0.4444444444444444,
              "#bd3786"
             ],
             [
              0.5555555555555556,
              "#d8576b"
             ],
             [
              0.6666666666666666,
              "#ed7953"
             ],
             [
              0.7777777777777778,
              "#fb9f3a"
             ],
             [
              0.8888888888888888,
              "#fdca26"
             ],
             [
              1,
              "#f0f921"
             ]
            ],
            "type": "histogram2dcontour"
           }
          ],
          "mesh3d": [
           {
            "colorbar": {
             "outlinewidth": 0,
             "ticks": ""
            },
            "type": "mesh3d"
           }
          ],
          "parcoords": [
           {
            "line": {
             "colorbar": {
              "outlinewidth": 0,
              "ticks": ""
             }
            },
            "type": "parcoords"
           }
          ],
          "pie": [
           {
            "automargin": true,
            "type": "pie"
           }
          ],
          "scatter": [
           {
            "fillpattern": {
             "fillmode": "overlay",
             "size": 10,
             "solidity": 0.2
            },
            "type": "scatter"
           }
          ],
          "scatter3d": [
           {
            "line": {
             "colorbar": {
              "outlinewidth": 0,
              "ticks": ""
             }
            },
            "marker": {
             "colorbar": {
              "outlinewidth": 0,
              "ticks": ""
             }
            },
            "type": "scatter3d"
           }
          ],
          "scattercarpet": [
           {
            "marker": {
             "colorbar": {
              "outlinewidth": 0,
              "ticks": ""
             }
            },
            "type": "scattercarpet"
           }
          ],
          "scattergeo": [
           {
            "marker": {
             "colorbar": {
              "outlinewidth": 0,
              "ticks": ""
             }
            },
            "type": "scattergeo"
           }
          ],
          "scattergl": [
           {
            "marker": {
             "colorbar": {
              "outlinewidth": 0,
              "ticks": ""
             }
            },
            "type": "scattergl"
           }
          ],
          "scattermapbox": [
           {
            "marker": {
             "colorbar": {
              "outlinewidth": 0,
              "ticks": ""
             }
            },
            "type": "scattermapbox"
           }
          ],
          "scatterpolar": [
           {
            "marker": {
             "colorbar": {
              "outlinewidth": 0,
              "ticks": ""
             }
            },
            "type": "scatterpolar"
           }
          ],
          "scatterpolargl": [
           {
            "marker": {
             "colorbar": {
              "outlinewidth": 0,
              "ticks": ""
             }
            },
            "type": "scatterpolargl"
           }
          ],
          "scatterternary": [
           {
            "marker": {
             "colorbar": {
              "outlinewidth": 0,
              "ticks": ""
             }
            },
            "type": "scatterternary"
           }
          ],
          "surface": [
           {
            "colorbar": {
             "outlinewidth": 0,
             "ticks": ""
            },
            "colorscale": [
             [
              0,
              "#0d0887"
             ],
             [
              0.1111111111111111,
              "#46039f"
             ],
             [
              0.2222222222222222,
              "#7201a8"
             ],
             [
              0.3333333333333333,
              "#9c179e"
             ],
             [
              0.4444444444444444,
              "#bd3786"
             ],
             [
              0.5555555555555556,
              "#d8576b"
             ],
             [
              0.6666666666666666,
              "#ed7953"
             ],
             [
              0.7777777777777778,
              "#fb9f3a"
             ],
             [
              0.8888888888888888,
              "#fdca26"
             ],
             [
              1,
              "#f0f921"
             ]
            ],
            "type": "surface"
           }
          ],
          "table": [
           {
            "cells": {
             "fill": {
              "color": "#EBF0F8"
             },
             "line": {
              "color": "white"
             }
            },
            "header": {
             "fill": {
              "color": "#C8D4E3"
             },
             "line": {
              "color": "white"
             }
            },
            "type": "table"
           }
          ]
         },
         "layout": {
          "annotationdefaults": {
           "arrowcolor": "#2a3f5f",
           "arrowhead": 0,
           "arrowwidth": 1
          },
          "autotypenumbers": "strict",
          "coloraxis": {
           "colorbar": {
            "outlinewidth": 0,
            "ticks": ""
           }
          },
          "colorscale": {
           "diverging": [
            [
             0,
             "#8e0152"
            ],
            [
             0.1,
             "#c51b7d"
            ],
            [
             0.2,
             "#de77ae"
            ],
            [
             0.3,
             "#f1b6da"
            ],
            [
             0.4,
             "#fde0ef"
            ],
            [
             0.5,
             "#f7f7f7"
            ],
            [
             0.6,
             "#e6f5d0"
            ],
            [
             0.7,
             "#b8e186"
            ],
            [
             0.8,
             "#7fbc41"
            ],
            [
             0.9,
             "#4d9221"
            ],
            [
             1,
             "#276419"
            ]
           ],
           "sequential": [
            [
             0,
             "#0d0887"
            ],
            [
             0.1111111111111111,
             "#46039f"
            ],
            [
             0.2222222222222222,
             "#7201a8"
            ],
            [
             0.3333333333333333,
             "#9c179e"
            ],
            [
             0.4444444444444444,
             "#bd3786"
            ],
            [
             0.5555555555555556,
             "#d8576b"
            ],
            [
             0.6666666666666666,
             "#ed7953"
            ],
            [
             0.7777777777777778,
             "#fb9f3a"
            ],
            [
             0.8888888888888888,
             "#fdca26"
            ],
            [
             1,
             "#f0f921"
            ]
           ],
           "sequentialminus": [
            [
             0,
             "#0d0887"
            ],
            [
             0.1111111111111111,
             "#46039f"
            ],
            [
             0.2222222222222222,
             "#7201a8"
            ],
            [
             0.3333333333333333,
             "#9c179e"
            ],
            [
             0.4444444444444444,
             "#bd3786"
            ],
            [
             0.5555555555555556,
             "#d8576b"
            ],
            [
             0.6666666666666666,
             "#ed7953"
            ],
            [
             0.7777777777777778,
             "#fb9f3a"
            ],
            [
             0.8888888888888888,
             "#fdca26"
            ],
            [
             1,
             "#f0f921"
            ]
           ]
          },
          "colorway": [
           "#636efa",
           "#EF553B",
           "#00cc96",
           "#ab63fa",
           "#FFA15A",
           "#19d3f3",
           "#FF6692",
           "#B6E880",
           "#FF97FF",
           "#FECB52"
          ],
          "font": {
           "color": "#2a3f5f"
          },
          "geo": {
           "bgcolor": "white",
           "lakecolor": "white",
           "landcolor": "#E5ECF6",
           "showlakes": true,
           "showland": true,
           "subunitcolor": "white"
          },
          "hoverlabel": {
           "align": "left"
          },
          "hovermode": "closest",
          "mapbox": {
           "style": "light"
          },
          "paper_bgcolor": "white",
          "plot_bgcolor": "#E5ECF6",
          "polar": {
           "angularaxis": {
            "gridcolor": "white",
            "linecolor": "white",
            "ticks": ""
           },
           "bgcolor": "#E5ECF6",
           "radialaxis": {
            "gridcolor": "white",
            "linecolor": "white",
            "ticks": ""
           }
          },
          "scene": {
           "xaxis": {
            "backgroundcolor": "#E5ECF6",
            "gridcolor": "white",
            "gridwidth": 2,
            "linecolor": "white",
            "showbackground": true,
            "ticks": "",
            "zerolinecolor": "white"
           },
           "yaxis": {
            "backgroundcolor": "#E5ECF6",
            "gridcolor": "white",
            "gridwidth": 2,
            "linecolor": "white",
            "showbackground": true,
            "ticks": "",
            "zerolinecolor": "white"
           },
           "zaxis": {
            "backgroundcolor": "#E5ECF6",
            "gridcolor": "white",
            "gridwidth": 2,
            "linecolor": "white",
            "showbackground": true,
            "ticks": "",
            "zerolinecolor": "white"
           }
          },
          "shapedefaults": {
           "line": {
            "color": "#2a3f5f"
           }
          },
          "ternary": {
           "aaxis": {
            "gridcolor": "white",
            "linecolor": "white",
            "ticks": ""
           },
           "baxis": {
            "gridcolor": "white",
            "linecolor": "white",
            "ticks": ""
           },
           "bgcolor": "#E5ECF6",
           "caxis": {
            "gridcolor": "white",
            "linecolor": "white",
            "ticks": ""
           }
          },
          "title": {
           "x": 0.05
          },
          "xaxis": {
           "automargin": true,
           "gridcolor": "white",
           "linecolor": "white",
           "ticks": "",
           "title": {
            "standoff": 15
           },
           "zerolinecolor": "white",
           "zerolinewidth": 2
          },
          "yaxis": {
           "automargin": true,
           "gridcolor": "white",
           "linecolor": "white",
           "ticks": "",
           "title": {
            "standoff": 15
           },
           "zerolinecolor": "white",
           "zerolinewidth": 2
          }
         }
        },
        "xaxis": {
         "autorange": true,
         "range": [
          0,
          28748.42105263158
         ],
         "type": "linear"
        },
        "yaxis": {
         "autorange": true,
         "range": [
          -0.5,
          0.5
         ],
         "type": "category"
        }
       }
      },
      "image/png": "[encoded data removed]",
      "text/html": [
       "<div>                            <div id=\"a28c4120-40b0-4e2c-aef6-21c71248686f\" class=\"plotly-graph-div\" style=\"height:525px; width:100%;\"></div>            <script type=\"text/javascript\">                require([\"plotly\"], function(Plotly) {                    window.PLOTLYENV=window.PLOTLYENV || {};                                    if (document.getElementById(\"a28c4120-40b0-4e2c-aef6-21c71248686f\")) {                    Plotly.newPlot(                        \"a28c4120-40b0-4e2c-aef6-21c71248686f\",                        [{\"marker\":{\"color\":\"rgba(246, 78, 139, 0.6)\",\"line\":{\"color\":\"rgba(246, 78, 139, 1.0)\",\"width\":3}},\"name\":\"AVP\",\"orientation\":\"h\",\"x\":[25353],\"y\":[\"United States\"],\"type\":\"bar\"},{\"marker\":{\"color\":\"rgba(58, 71, 80, 0.6)\",\"line\":{\"color\":\"rgba(58, 71, 80, 1.0)\",\"width\":3}},\"name\":\"FIVB\",\"orientation\":\"h\",\"x\":[1958],\"y\":[\"United States\"],\"type\":\"bar\"}],                        {\"template\":{\"data\":{\"histogram2dcontour\":[{\"type\":\"histogram2dcontour\",\"colorbar\":{\"outlinewidth\":0,\"ticks\":\"\"},\"colorscale\":[[0.0,\"#0d0887\"],[0.1111111111111111,\"#46039f\"],[0.2222222222222222,\"#7201a8\"],[0.3333333333333333,\"#9c179e\"],[0.4444444444444444,\"#bd3786\"],[0.5555555555555556,\"#d8576b\"],[0.6666666666666666,\"#ed7953\"],[0.7777777777777778,\"#fb9f3a\"],[0.8888888888888888,\"#fdca26\"],[1.0,\"#f0f921\"]]}],\"choropleth\":[{\"type\":\"choropleth\",\"colorbar\":{\"outlinewidth\":0,\"ticks\":\"\"}}],\"histogram2d\":[{\"type\":\"histogram2d\",\"colorbar\":{\"outlinewidth\":0,\"ticks\":\"\"},\"colorscale\":[[0.0,\"#0d0887\"],[0.1111111111111111,\"#46039f\"],[0.2222222222222222,\"#7201a8\"],[0.3333333333333333,\"#9c179e\"],[0.4444444444444444,\"#bd3786\"],[0.5555555555555556,\"#d8576b\"],[0.6666666666666666,\"#ed7953\"],[0.7777777777777778,\"#fb9f3a\"],[0.8888888888888888,\"#fdca26\"],[1.0,\"#f0f921\"]]}],\"heatmap\":[{\"type\":\"heatmap\",\"colorbar\":{\"outlinewidth\":0,\"ticks\":\"\"},\"colorscale\":[[0.0,\"#0d0887\"],[0.1111111111111111,\"#46039f\"],[0.2222222222222222,\"#7201a8\"],[0.3333333333333333,\"#9c179e\"],[0.4444444444444444,\"#bd3786\"],[0.5555555555555556,\"#d8576b\"],[0.6666666666666666,\"#ed7953\"],[0.7777777777777778,\"#fb9f3a\"],[0.8888888888888888,\"#fdca26\"],[1.0,\"#f0f921\"]]}],\"heatmapgl\":[{\"type\":\"heatmapgl\",\"colorbar\":{\"outlinewidth\":0,\"ticks\":\"\"},\"colorscale\":[[0.0,\"#0d0887\"],[0.1111111111111111,\"#46039f\"],[0.2222222222222222,\"#7201a8\"],[0.3333333333333333,\"#9c179e\"],[0.4444444444444444,\"#bd3786\"],[0.5555555555555556,\"#d8576b\"],[0.6666666666666666,\"#ed7953\"],[0.7777777777777778,\"#fb9f3a\"],[0.8888888888888888,\"#fdca26\"],[1.0,\"#f0f921\"]]}],\"contourcarpet\":[{\"type\":\"contourcarpet\",\"colorbar\":{\"outlinewidth\":0,\"ticks\":\"\"}}],\"contour\":[{\"type\":\"contour\",\"colorbar\":{\"outlinewidth\":0,\"ticks\":\"\"},\"colorscale\":[[0.0,\"#0d0887\"],[0.1111111111111111,\"#46039f\"],[0.2222222222222222,\"#7201a8\"],[0.3333333333333333,\"#9c179e\"],[0.4444444444444444,\"#bd3786\"],[0.5555555555555556,\"#d8576b\"],[0.6666666666666666,\"#ed7953\"],[0.7777777777777778,\"#fb9f3a\"],[0.8888888888888888,\"#fdca26\"],[1.0,\"#f0f921\"]]}],\"surface\":[{\"type\":\"surface\",\"colorbar\":{\"outlinewidth\":0,\"ticks\":\"\"},\"colorscale\":[[0.0,\"#0d0887\"],[0.1111111111111111,\"#46039f\"],[0.2222222222222222,\"#7201a8\"],[0.3333333333333333,\"#9c179e\"],[0.4444444444444444,\"#bd3786\"],[0.5555555555555556,\"#d8576b\"],[0.6666666666666666,\"#ed7953\"],[0.7777777777777778,\"#fb9f3a\"],[0.8888888888888888,\"#fdca26\"],[1.0,\"#f0f921\"]]}],\"mesh3d\":[{\"type\":\"mesh3d\",\"colorbar\":{\"outlinewidth\":0,\"ticks\":\"\"}}],\"scatter\":[{\"fillpattern\":{\"fillmode\":\"overlay\",\"size\":10,\"solidity\":0.2},\"type\":\"scatter\"}],\"parcoords\":[{\"type\":\"parcoords\",\"line\":{\"colorbar\":{\"outlinewidth\":0,\"ticks\":\"\"}}}],\"scatterpolargl\":[{\"type\":\"scatterpolargl\",\"marker\":{\"colorbar\":{\"outlinewidth\":0,\"ticks\":\"\"}}}],\"bar\":[{\"error_x\":{\"color\":\"#2a3f5f\"},\"error_y\":{\"color\":\"#2a3f5f\"},\"marker\":{\"line\":{\"color\":\"#E5ECF6\",\"width\":0.5},\"pattern\":{\"fillmode\":\"overlay\",\"size\":10,\"solidity\":0.2}},\"type\":\"bar\"}],\"scattergeo\":[{\"type\":\"scattergeo\",\"marker\":{\"colorbar\":{\"outlinewidth\":0,\"ticks\":\"\"}}}],\"scatterpolar\":[{\"type\":\"scatterpolar\",\"marker\":{\"colorbar\":{\"outlinewidth\":0,\"ticks\":\"\"}}}],\"histogram\":[{\"marker\":{\"pattern\":{\"fillmode\":\"overlay\",\"size\":10,\"solidity\":0.2}},\"type\":\"histogram\"}],\"scattergl\":[{\"type\":\"scattergl\",\"marker\":{\"colorbar\":{\"outlinewidth\":0,\"ticks\":\"\"}}}],\"scatter3d\":[{\"type\":\"scatter3d\",\"line\":{\"colorbar\":{\"outlinewidth\":0,\"ticks\":\"\"}},\"marker\":{\"colorbar\":{\"outlinewidth\":0,\"ticks\":\"\"}}}],\"scattermapbox\":[{\"type\":\"scattermapbox\",\"marker\":{\"colorbar\":{\"outlinewidth\":0,\"ticks\":\"\"}}}],\"scatterternary\":[{\"type\":\"scatterternary\",\"marker\":{\"colorbar\":{\"outlinewidth\":0,\"ticks\":\"\"}}}],\"scattercarpet\":[{\"type\":\"scattercarpet\",\"marker\":{\"colorbar\":{\"outlinewidth\":0,\"ticks\":\"\"}}}],\"carpet\":[{\"aaxis\":{\"endlinecolor\":\"#2a3f5f\",\"gridcolor\":\"white\",\"linecolor\":\"white\",\"minorgridcolor\":\"white\",\"startlinecolor\":\"#2a3f5f\"},\"baxis\":{\"endlinecolor\":\"#2a3f5f\",\"gridcolor\":\"white\",\"linecolor\":\"white\",\"minorgridcolor\":\"white\",\"startlinecolor\":\"#2a3f5f\"},\"type\":\"carpet\"}],\"table\":[{\"cells\":{\"fill\":{\"color\":\"#EBF0F8\"},\"line\":{\"color\":\"white\"}},\"header\":{\"fill\":{\"color\":\"#C8D4E3\"},\"line\":{\"color\":\"white\"}},\"type\":\"table\"}],\"barpolar\":[{\"marker\":{\"line\":{\"color\":\"#E5ECF6\",\"width\":0.5},\"pattern\":{\"fillmode\":\"overlay\",\"size\":10,\"solidity\":0.2}},\"type\":\"barpolar\"}],\"pie\":[{\"automargin\":true,\"type\":\"pie\"}]},\"layout\":{\"autotypenumbers\":\"strict\",\"colorway\":[\"#636efa\",\"#EF553B\",\"#00cc96\",\"#ab63fa\",\"#FFA15A\",\"#19d3f3\",\"#FF6692\",\"#B6E880\",\"#FF97FF\",\"#FECB52\"],\"font\":{\"color\":\"#2a3f5f\"},\"hovermode\":\"closest\",\"hoverlabel\":{\"align\":\"left\"},\"paper_bgcolor\":\"white\",\"plot_bgcolor\":\"#E5ECF6\",\"polar\":{\"bgcolor\":\"#E5ECF6\",\"angularaxis\":{\"gridcolor\":\"white\",\"linecolor\":\"white\",\"ticks\":\"\"},\"radialaxis\":{\"gridcolor\":\"white\",\"linecolor\":\"white\",\"ticks\":\"\"}},\"ternary\":{\"bgcolor\":\"#E5ECF6\",\"aaxis\":{\"gridcolor\":\"white\",\"linecolor\":\"white\",\"ticks\":\"\"},\"baxis\":{\"gridcolor\":\"white\",\"linecolor\":\"white\",\"ticks\":\"\"},\"caxis\":{\"gridcolor\":\"white\",\"linecolor\":\"white\",\"ticks\":\"\"}},\"coloraxis\":{\"colorbar\":{\"outlinewidth\":0,\"ticks\":\"\"}},\"colorscale\":{\"sequential\":[[0.0,\"#0d0887\"],[0.1111111111111111,\"#46039f\"],[0.2222222222222222,\"#7201a8\"],[0.3333333333333333,\"#9c179e\"],[0.4444444444444444,\"#bd3786\"],[0.5555555555555556,\"#d8576b\"],[0.6666666666666666,\"#ed7953\"],[0.7777777777777778,\"#fb9f3a\"],[0.8888888888888888,\"#fdca26\"],[1.0,\"#f0f921\"]],\"sequentialminus\":[[0.0,\"#0d0887\"],[0.1111111111111111,\"#46039f\"],[0.2222222222222222,\"#7201a8\"],[0.3333333333333333,\"#9c179e\"],[0.4444444444444444,\"#bd3786\"],[0.5555555555555556,\"#d8576b\"],[0.6666666666666666,\"#ed7953\"],[0.7777777777777778,\"#fb9f3a\"],[0.8888888888888888,\"#fdca26\"],[1.0,\"#f0f921\"]],\"diverging\":[[0,\"#8e0152\"],[0.1,\"#c51b7d\"],[0.2,\"#de77ae\"],[0.3,\"#f1b6da\"],[0.4,\"#fde0ef\"],[0.5,\"#f7f7f7\"],[0.6,\"#e6f5d0\"],[0.7,\"#b8e186\"],[0.8,\"#7fbc41\"],[0.9,\"#4d9221\"],[1,\"#276419\"]]},\"xaxis\":{\"gridcolor\":\"white\",\"linecolor\":\"white\",\"ticks\":\"\",\"title\":{\"standoff\":15},\"zerolinecolor\":\"white\",\"automargin\":true,\"zerolinewidth\":2},\"yaxis\":{\"gridcolor\":\"white\",\"linecolor\":\"white\",\"ticks\":\"\",\"title\":{\"standoff\":15},\"zerolinecolor\":\"white\",\"automargin\":true,\"zerolinewidth\":2},\"scene\":{\"xaxis\":{\"backgroundcolor\":\"#E5ECF6\",\"gridcolor\":\"white\",\"linecolor\":\"white\",\"showbackground\":true,\"ticks\":\"\",\"zerolinecolor\":\"white\",\"gridwidth\":2},\"yaxis\":{\"backgroundcolor\":\"#E5ECF6\",\"gridcolor\":\"white\",\"linecolor\":\"white\",\"showbackground\":true,\"ticks\":\"\",\"zerolinecolor\":\"white\",\"gridwidth\":2},\"zaxis\":{\"backgroundcolor\":\"#E5ECF6\",\"gridcolor\":\"white\",\"linecolor\":\"white\",\"showbackground\":true,\"ticks\":\"\",\"zerolinecolor\":\"white\",\"gridwidth\":2}},\"shapedefaults\":{\"line\":{\"color\":\"#2a3f5f\"}},\"annotationdefaults\":{\"arrowcolor\":\"#2a3f5f\",\"arrowhead\":0,\"arrowwidth\":1},\"geo\":{\"bgcolor\":\"white\",\"landcolor\":\"#E5ECF6\",\"subunitcolor\":\"white\",\"showland\":true,\"showlakes\":true,\"lakecolor\":\"white\"},\"title\":{\"x\":0.05},\"mapbox\":{\"style\":\"light\"}}},\"barmode\":\"stack\"},                        {\"responsive\": true}                    ).then(function(){\n",
       "                            \n",
       "var gd = document.getElementById('a28c4120-40b0-4e2c-aef6-21c71248686f');\n",
       "var x = new MutationObserver(function (mutations, observer) {{\n",
       "        var display = window.getComputedStyle(gd).display;\n",
       "        if (!display || display === 'none') {{\n",
       "            console.log([gd, 'removed!']);\n",
       "            Plotly.purge(gd);\n",
       "            observer.disconnect();\n",
       "        }}\n",
       "}});\n",
       "\n",
       "// Listen for the removal of the full notebook cells\n",
       "var notebookContainer = gd.closest('#notebook-container');\n",
       "if (notebookContainer) {{\n",
       "    x.observe(notebookContainer, {childList: true});\n",
       "}}\n",
       "\n",
       "// Listen for the clearing of the current output cell\n",
       "var outputEl = gd.closest('.output');\n",
       "if (outputEl) {{\n",
       "    x.observe(outputEl, {childList: true});\n",
       "}}\n",
       "\n",
       "                        })                };                });            </script>        </div>"
      ]
     },
     "metadata": {},
     "output_type": "display_data"
    }
   ],
   "source": [
    "# Taken from Plotly documentation on how to make a colored bar graph\n",
    "\n",
    "fig = go.Figure()\n",
    "fig.add_trace(go.Bar(\n",
    "    y = ['United States'],\n",
    "    x = [frequency_dict['AVP']],\n",
    "    name ='AVP',\n",
    "    orientation='h',\n",
    "    marker_color='rgba(246, 78, 139, 0.6)',\n",
    "    marker_line_color='rgba(246, 78, 139, 1.0)',\n",
    "    marker_line_width=3\n",
    "))\n",
    "fig.add_trace(go.Bar(\n",
    "    y = ['United States'],\n",
    "    x = [frequency_dict['FIVB']],\n",
    "    name ='FIVB',\n",
    "    orientation='h',\n",
    "    marker_color='rgba(58, 71, 80, 0.6)',\n",
    "    marker_line_color='rgba(58, 71, 80, 1.0)',\n",
    "    marker_line_width=3\n",
    "))\n",
    "\n",
    "fig.update_layout(barmode='stack')\n",
    "fig.show()"
   ]
  },
  {
   "cell_type": "code",
   "execution_count": 144,
   "id": "4a9b8f72-f7de-4caa-96ef-d7cbc5d15227",
   "metadata": {},
   "outputs": [
    {
     "data": {
      "text/plain": [
       "circuit\n",
       "AVP     92.83\n",
       "FIVB     7.17\n",
       "Name: proportion, dtype: float64"
      ]
     },
     "execution_count": 144,
     "metadata": {},
     "output_type": "execute_result"
    }
   ],
   "source": [
    "round(df.query('country == \"United States\"')['circuit'].value_counts(normalize = True) * 100, 2)"
   ]
  },
  {
   "cell_type": "markdown",
   "id": "8a913e70-1007-4abf-a777-02359b7ed12c",
   "metadata": {},
   "source": [
    "#### In the US, ~92.83 % of tournaments were AVP and ~7.17 tournaments were FIVB "
   ]
  },
  {
   "cell_type": "code",
   "execution_count": 145,
   "id": "70aeecf3-f4a6-4299-89a8-4cfcc9384cbe",
   "metadata": {},
   "outputs": [
    {
     "data": {
      "text/html": [
       "<div>\n",
       "<style scoped>\n",
       "    .dataframe tbody tr th:only-of-type {\n",
       "        vertical-align: middle;\n",
       "    }\n",
       "\n",
       "    .dataframe tbody tr th {\n",
       "        vertical-align: top;\n",
       "    }\n",
       "\n",
       "    .dataframe thead th {\n",
       "        text-align: right;\n",
       "    }\n",
       "</style>\n",
       "<table border=\"1\" class=\"dataframe\">\n",
       "  <thead>\n",
       "    <tr style=\"text-align: right;\">\n",
       "      <th></th>\n",
       "      <th>circuit</th>\n",
       "      <th>tournament</th>\n",
       "      <th>country</th>\n",
       "      <th>year</th>\n",
       "      <th>date</th>\n",
       "      <th>gender</th>\n",
       "      <th>match_num</th>\n",
       "      <th>w_player1</th>\n",
       "      <th>w_p1_birthdate</th>\n",
       "      <th>w_p1_age</th>\n",
       "      <th>w_p1_hgt</th>\n",
       "      <th>w_p1_country</th>\n",
       "      <th>w_player2</th>\n",
       "      <th>w_p2_birthdate</th>\n",
       "      <th>w_p2_age</th>\n",
       "      <th>w_p2_hgt</th>\n",
       "      <th>w_p2_country</th>\n",
       "      <th>w_rank</th>\n",
       "      <th>l_player1</th>\n",
       "      <th>l_p1_birthdate</th>\n",
       "      <th>l_p1_age</th>\n",
       "      <th>l_p1_hgt</th>\n",
       "      <th>l_p1_country</th>\n",
       "      <th>l_player2</th>\n",
       "      <th>l_p2_birthdate</th>\n",
       "      <th>l_p2_age</th>\n",
       "      <th>l_p2_hgt</th>\n",
       "      <th>l_p2_country</th>\n",
       "      <th>l_rank</th>\n",
       "      <th>score</th>\n",
       "      <th>duration</th>\n",
       "      <th>bracket</th>\n",
       "      <th>round</th>\n",
       "      <th>w_p1_tot_attacks</th>\n",
       "      <th>w_p1_tot_kills</th>\n",
       "      <th>w_p1_tot_errors</th>\n",
       "      <th>w_p1_tot_hitpct</th>\n",
       "      <th>w_p1_tot_aces</th>\n",
       "      <th>w_p1_tot_serve_errors</th>\n",
       "      <th>w_p1_tot_blocks</th>\n",
       "      <th>w_p1_tot_digs</th>\n",
       "      <th>w_p2_tot_attacks</th>\n",
       "      <th>w_p2_tot_kills</th>\n",
       "      <th>w_p2_tot_errors</th>\n",
       "      <th>w_p2_tot_hitpct</th>\n",
       "      <th>w_p2_tot_aces</th>\n",
       "      <th>w_p2_tot_serve_errors</th>\n",
       "      <th>w_p2_tot_blocks</th>\n",
       "      <th>w_p2_tot_digs</th>\n",
       "      <th>l_p1_tot_attacks</th>\n",
       "      <th>l_p1_tot_kills</th>\n",
       "      <th>l_p1_tot_errors</th>\n",
       "      <th>l_p1_tot_hitpct</th>\n",
       "      <th>l_p1_tot_aces</th>\n",
       "      <th>l_p1_tot_serve_errors</th>\n",
       "      <th>l_p1_tot_blocks</th>\n",
       "      <th>l_p1_tot_digs</th>\n",
       "      <th>l_p2_tot_attacks</th>\n",
       "      <th>l_p2_tot_kills</th>\n",
       "      <th>l_p2_tot_errors</th>\n",
       "      <th>l_p2_tot_hitpct</th>\n",
       "      <th>l_p2_tot_aces</th>\n",
       "      <th>l_p2_tot_serve_errors</th>\n",
       "      <th>l_p2_tot_blocks</th>\n",
       "      <th>l_p2_tot_digs</th>\n",
       "    </tr>\n",
       "  </thead>\n",
       "  <tbody>\n",
       "    <tr>\n",
       "      <th>0</th>\n",
       "      <td>AVP</td>\n",
       "      <td>Huntington Beach</td>\n",
       "      <td>United States</td>\n",
       "      <td>2002</td>\n",
       "      <td>2002-05-24</td>\n",
       "      <td>M</td>\n",
       "      <td>1</td>\n",
       "      <td>Kevin Wong</td>\n",
       "      <td>1972-09-12</td>\n",
       "      <td>29.694730</td>\n",
       "      <td>79.0</td>\n",
       "      <td>United States</td>\n",
       "      <td>Stein Metzger</td>\n",
       "      <td>1972-11-17</td>\n",
       "      <td>29.514032</td>\n",
       "      <td>75.0</td>\n",
       "      <td>United States</td>\n",
       "      <td>1</td>\n",
       "      <td>Chuck Moore</td>\n",
       "      <td>1973-08-18</td>\n",
       "      <td>28.763860</td>\n",
       "      <td>76.0</td>\n",
       "      <td>United States</td>\n",
       "      <td>Ed Ratledge</td>\n",
       "      <td>1976-12-16</td>\n",
       "      <td>25.434634</td>\n",
       "      <td>80.0</td>\n",
       "      <td>United States</td>\n",
       "      <td>32</td>\n",
       "      <td>21-18, 21-12</td>\n",
       "      <td>00:33:00</td>\n",
       "      <td>Winner's Bracket</td>\n",
       "      <td>Round 1</td>\n",
       "      <td>NaN</td>\n",
       "      <td>NaN</td>\n",
       "      <td>NaN</td>\n",
       "      <td>NaN</td>\n",
       "      <td>1.0</td>\n",
       "      <td>NaN</td>\n",
       "      <td>7.0</td>\n",
       "      <td>NaN</td>\n",
       "      <td>NaN</td>\n",
       "      <td>NaN</td>\n",
       "      <td>NaN</td>\n",
       "      <td>NaN</td>\n",
       "      <td>2.0</td>\n",
       "      <td>NaN</td>\n",
       "      <td>0.0</td>\n",
       "      <td>NaN</td>\n",
       "      <td>NaN</td>\n",
       "      <td>NaN</td>\n",
       "      <td>NaN</td>\n",
       "      <td>NaN</td>\n",
       "      <td>1.0</td>\n",
       "      <td>NaN</td>\n",
       "      <td>0.0</td>\n",
       "      <td>NaN</td>\n",
       "      <td>NaN</td>\n",
       "      <td>NaN</td>\n",
       "      <td>NaN</td>\n",
       "      <td>NaN</td>\n",
       "      <td>0.0</td>\n",
       "      <td>NaN</td>\n",
       "      <td>1.0</td>\n",
       "      <td>NaN</td>\n",
       "    </tr>\n",
       "    <tr>\n",
       "      <th>1</th>\n",
       "      <td>AVP</td>\n",
       "      <td>Huntington Beach</td>\n",
       "      <td>United States</td>\n",
       "      <td>2002</td>\n",
       "      <td>2002-05-24</td>\n",
       "      <td>M</td>\n",
       "      <td>2</td>\n",
       "      <td>Brad Torsone</td>\n",
       "      <td>1975-01-14</td>\n",
       "      <td>27.356605</td>\n",
       "      <td>78.0</td>\n",
       "      <td>United States</td>\n",
       "      <td>Casey Jennings</td>\n",
       "      <td>1975-07-10</td>\n",
       "      <td>26.872006</td>\n",
       "      <td>75.0</td>\n",
       "      <td>United States</td>\n",
       "      <td>16</td>\n",
       "      <td>Mark Paaluhi</td>\n",
       "      <td>1971-03-08</td>\n",
       "      <td>31.211499</td>\n",
       "      <td>75.0</td>\n",
       "      <td>United States</td>\n",
       "      <td>Nick Hannemann</td>\n",
       "      <td>1972-01-12</td>\n",
       "      <td>30.362765</td>\n",
       "      <td>78.0</td>\n",
       "      <td>United States</td>\n",
       "      <td>17</td>\n",
       "      <td>21-16, 17-21, 15-10</td>\n",
       "      <td>00:57:00</td>\n",
       "      <td>Winner's Bracket</td>\n",
       "      <td>Round 1</td>\n",
       "      <td>NaN</td>\n",
       "      <td>NaN</td>\n",
       "      <td>NaN</td>\n",
       "      <td>NaN</td>\n",
       "      <td>0.0</td>\n",
       "      <td>NaN</td>\n",
       "      <td>4.0</td>\n",
       "      <td>NaN</td>\n",
       "      <td>NaN</td>\n",
       "      <td>NaN</td>\n",
       "      <td>NaN</td>\n",
       "      <td>NaN</td>\n",
       "      <td>4.0</td>\n",
       "      <td>NaN</td>\n",
       "      <td>0.0</td>\n",
       "      <td>NaN</td>\n",
       "      <td>NaN</td>\n",
       "      <td>NaN</td>\n",
       "      <td>NaN</td>\n",
       "      <td>NaN</td>\n",
       "      <td>0.0</td>\n",
       "      <td>NaN</td>\n",
       "      <td>2.0</td>\n",
       "      <td>NaN</td>\n",
       "      <td>NaN</td>\n",
       "      <td>NaN</td>\n",
       "      <td>NaN</td>\n",
       "      <td>NaN</td>\n",
       "      <td>0.0</td>\n",
       "      <td>NaN</td>\n",
       "      <td>0.0</td>\n",
       "      <td>NaN</td>\n",
       "    </tr>\n",
       "    <tr>\n",
       "      <th>2</th>\n",
       "      <td>AVP</td>\n",
       "      <td>Huntington Beach</td>\n",
       "      <td>United States</td>\n",
       "      <td>2002</td>\n",
       "      <td>2002-05-24</td>\n",
       "      <td>M</td>\n",
       "      <td>3</td>\n",
       "      <td>Eduardo Bacil</td>\n",
       "      <td>1971-03-11</td>\n",
       "      <td>31.203285</td>\n",
       "      <td>74.0</td>\n",
       "      <td>Brazil</td>\n",
       "      <td>Fred Souza</td>\n",
       "      <td>1972-05-13</td>\n",
       "      <td>30.028747</td>\n",
       "      <td>79.0</td>\n",
       "      <td>Brazil</td>\n",
       "      <td>24</td>\n",
       "      <td>Adam Jewell</td>\n",
       "      <td>1975-06-24</td>\n",
       "      <td>26.915811</td>\n",
       "      <td>77.0</td>\n",
       "      <td>United States</td>\n",
       "      <td>Collin Smith</td>\n",
       "      <td>1975-05-26</td>\n",
       "      <td>26.995209</td>\n",
       "      <td>76.0</td>\n",
       "      <td>United States</td>\n",
       "      <td>9</td>\n",
       "      <td>21-18, 21-18</td>\n",
       "      <td>00:46:00</td>\n",
       "      <td>Winner's Bracket</td>\n",
       "      <td>Round 1</td>\n",
       "      <td>NaN</td>\n",
       "      <td>NaN</td>\n",
       "      <td>NaN</td>\n",
       "      <td>NaN</td>\n",
       "      <td>0.0</td>\n",
       "      <td>NaN</td>\n",
       "      <td>2.0</td>\n",
       "      <td>NaN</td>\n",
       "      <td>NaN</td>\n",
       "      <td>NaN</td>\n",
       "      <td>NaN</td>\n",
       "      <td>NaN</td>\n",
       "      <td>0.0</td>\n",
       "      <td>NaN</td>\n",
       "      <td>4.0</td>\n",
       "      <td>NaN</td>\n",
       "      <td>NaN</td>\n",
       "      <td>NaN</td>\n",
       "      <td>NaN</td>\n",
       "      <td>NaN</td>\n",
       "      <td>1.0</td>\n",
       "      <td>NaN</td>\n",
       "      <td>1.0</td>\n",
       "      <td>NaN</td>\n",
       "      <td>NaN</td>\n",
       "      <td>NaN</td>\n",
       "      <td>NaN</td>\n",
       "      <td>NaN</td>\n",
       "      <td>0.0</td>\n",
       "      <td>NaN</td>\n",
       "      <td>0.0</td>\n",
       "      <td>NaN</td>\n",
       "    </tr>\n",
       "    <tr>\n",
       "      <th>3</th>\n",
       "      <td>AVP</td>\n",
       "      <td>Huntington Beach</td>\n",
       "      <td>United States</td>\n",
       "      <td>2002</td>\n",
       "      <td>2002-05-24</td>\n",
       "      <td>M</td>\n",
       "      <td>4</td>\n",
       "      <td>Brent Doble</td>\n",
       "      <td>1970-01-03</td>\n",
       "      <td>32.386037</td>\n",
       "      <td>78.0</td>\n",
       "      <td>United States</td>\n",
       "      <td>Karch Kiraly</td>\n",
       "      <td>2060-11-03</td>\n",
       "      <td>41.552361</td>\n",
       "      <td>74.0</td>\n",
       "      <td>United States</td>\n",
       "      <td>8</td>\n",
       "      <td>David Swatik</td>\n",
       "      <td>1973-02-14</td>\n",
       "      <td>29.270363</td>\n",
       "      <td>76.0</td>\n",
       "      <td>United States</td>\n",
       "      <td>Mike Mattarocci</td>\n",
       "      <td>1969-10-05</td>\n",
       "      <td>32.632444</td>\n",
       "      <td>80.0</td>\n",
       "      <td>United States</td>\n",
       "      <td>25</td>\n",
       "      <td>21-16, 21-15</td>\n",
       "      <td>00:44:00</td>\n",
       "      <td>Winner's Bracket</td>\n",
       "      <td>Round 1</td>\n",
       "      <td>NaN</td>\n",
       "      <td>NaN</td>\n",
       "      <td>NaN</td>\n",
       "      <td>NaN</td>\n",
       "      <td>0.0</td>\n",
       "      <td>NaN</td>\n",
       "      <td>3.0</td>\n",
       "      <td>NaN</td>\n",
       "      <td>NaN</td>\n",
       "      <td>NaN</td>\n",
       "      <td>NaN</td>\n",
       "      <td>NaN</td>\n",
       "      <td>0.0</td>\n",
       "      <td>NaN</td>\n",
       "      <td>0.0</td>\n",
       "      <td>NaN</td>\n",
       "      <td>NaN</td>\n",
       "      <td>NaN</td>\n",
       "      <td>NaN</td>\n",
       "      <td>NaN</td>\n",
       "      <td>0.0</td>\n",
       "      <td>NaN</td>\n",
       "      <td>2.0</td>\n",
       "      <td>NaN</td>\n",
       "      <td>NaN</td>\n",
       "      <td>NaN</td>\n",
       "      <td>NaN</td>\n",
       "      <td>NaN</td>\n",
       "      <td>2.0</td>\n",
       "      <td>NaN</td>\n",
       "      <td>0.0</td>\n",
       "      <td>NaN</td>\n",
       "    </tr>\n",
       "    <tr>\n",
       "      <th>4</th>\n",
       "      <td>AVP</td>\n",
       "      <td>Huntington Beach</td>\n",
       "      <td>United States</td>\n",
       "      <td>2002</td>\n",
       "      <td>2002-05-24</td>\n",
       "      <td>M</td>\n",
       "      <td>5</td>\n",
       "      <td>Albert Hannemann</td>\n",
       "      <td>1970-05-04</td>\n",
       "      <td>32.054757</td>\n",
       "      <td>75.0</td>\n",
       "      <td>United States</td>\n",
       "      <td>Jeff Nygaard</td>\n",
       "      <td>1972-08-03</td>\n",
       "      <td>29.804244</td>\n",
       "      <td>80.0</td>\n",
       "      <td>United States</td>\n",
       "      <td>5</td>\n",
       "      <td>Adam Roberts</td>\n",
       "      <td>1976-01-25</td>\n",
       "      <td>26.327173</td>\n",
       "      <td>73.0</td>\n",
       "      <td>United States</td>\n",
       "      <td>Jim Walls</td>\n",
       "      <td>1978-03-26</td>\n",
       "      <td>24.161533</td>\n",
       "      <td>75.0</td>\n",
       "      <td>United States</td>\n",
       "      <td>28</td>\n",
       "      <td>20-22, 23-21, 15-10</td>\n",
       "      <td>01:08:00</td>\n",
       "      <td>Winner's Bracket</td>\n",
       "      <td>Round 1</td>\n",
       "      <td>NaN</td>\n",
       "      <td>NaN</td>\n",
       "      <td>NaN</td>\n",
       "      <td>NaN</td>\n",
       "      <td>1.0</td>\n",
       "      <td>NaN</td>\n",
       "      <td>0.0</td>\n",
       "      <td>NaN</td>\n",
       "      <td>NaN</td>\n",
       "      <td>NaN</td>\n",
       "      <td>NaN</td>\n",
       "      <td>NaN</td>\n",
       "      <td>0.0</td>\n",
       "      <td>NaN</td>\n",
       "      <td>6.0</td>\n",
       "      <td>NaN</td>\n",
       "      <td>NaN</td>\n",
       "      <td>NaN</td>\n",
       "      <td>NaN</td>\n",
       "      <td>NaN</td>\n",
       "      <td>0.0</td>\n",
       "      <td>NaN</td>\n",
       "      <td>0.0</td>\n",
       "      <td>NaN</td>\n",
       "      <td>NaN</td>\n",
       "      <td>NaN</td>\n",
       "      <td>NaN</td>\n",
       "      <td>NaN</td>\n",
       "      <td>0.0</td>\n",
       "      <td>NaN</td>\n",
       "      <td>1.0</td>\n",
       "      <td>NaN</td>\n",
       "    </tr>\n",
       "  </tbody>\n",
       "</table>\n",
       "</div>"
      ],
      "text/plain": [
       "  circuit        tournament        country  year        date gender  \\\n",
       "0     AVP  Huntington Beach  United States  2002  2002-05-24      M   \n",
       "1     AVP  Huntington Beach  United States  2002  2002-05-24      M   \n",
       "2     AVP  Huntington Beach  United States  2002  2002-05-24      M   \n",
       "3     AVP  Huntington Beach  United States  2002  2002-05-24      M   \n",
       "4     AVP  Huntington Beach  United States  2002  2002-05-24      M   \n",
       "\n",
       "   match_num         w_player1 w_p1_birthdate   w_p1_age  w_p1_hgt  \\\n",
       "0          1        Kevin Wong     1972-09-12  29.694730      79.0   \n",
       "1          2      Brad Torsone     1975-01-14  27.356605      78.0   \n",
       "2          3     Eduardo Bacil     1971-03-11  31.203285      74.0   \n",
       "3          4       Brent Doble     1970-01-03  32.386037      78.0   \n",
       "4          5  Albert Hannemann     1970-05-04  32.054757      75.0   \n",
       "\n",
       "    w_p1_country       w_player2 w_p2_birthdate   w_p2_age  w_p2_hgt  \\\n",
       "0  United States   Stein Metzger     1972-11-17  29.514032      75.0   \n",
       "1  United States  Casey Jennings     1975-07-10  26.872006      75.0   \n",
       "2         Brazil      Fred Souza     1972-05-13  30.028747      79.0   \n",
       "3  United States    Karch Kiraly     2060-11-03  41.552361      74.0   \n",
       "4  United States    Jeff Nygaard     1972-08-03  29.804244      80.0   \n",
       "\n",
       "    w_p2_country w_rank     l_player1 l_p1_birthdate   l_p1_age  l_p1_hgt  \\\n",
       "0  United States      1   Chuck Moore     1973-08-18  28.763860      76.0   \n",
       "1  United States     16  Mark Paaluhi     1971-03-08  31.211499      75.0   \n",
       "2         Brazil     24   Adam Jewell     1975-06-24  26.915811      77.0   \n",
       "3  United States      8  David Swatik     1973-02-14  29.270363      76.0   \n",
       "4  United States      5  Adam Roberts     1976-01-25  26.327173      73.0   \n",
       "\n",
       "    l_p1_country        l_player2 l_p2_birthdate   l_p2_age  l_p2_hgt  \\\n",
       "0  United States      Ed Ratledge     1976-12-16  25.434634      80.0   \n",
       "1  United States   Nick Hannemann     1972-01-12  30.362765      78.0   \n",
       "2  United States     Collin Smith     1975-05-26  26.995209      76.0   \n",
       "3  United States  Mike Mattarocci     1969-10-05  32.632444      80.0   \n",
       "4  United States        Jim Walls     1978-03-26  24.161533      75.0   \n",
       "\n",
       "    l_p2_country l_rank                score  duration           bracket  \\\n",
       "0  United States     32         21-18, 21-12  00:33:00  Winner's Bracket   \n",
       "1  United States     17  21-16, 17-21, 15-10  00:57:00  Winner's Bracket   \n",
       "2  United States      9         21-18, 21-18  00:46:00  Winner's Bracket   \n",
       "3  United States     25         21-16, 21-15  00:44:00  Winner's Bracket   \n",
       "4  United States     28  20-22, 23-21, 15-10  01:08:00  Winner's Bracket   \n",
       "\n",
       "     round  w_p1_tot_attacks  w_p1_tot_kills  w_p1_tot_errors  \\\n",
       "0  Round 1               NaN             NaN              NaN   \n",
       "1  Round 1               NaN             NaN              NaN   \n",
       "2  Round 1               NaN             NaN              NaN   \n",
       "3  Round 1               NaN             NaN              NaN   \n",
       "4  Round 1               NaN             NaN              NaN   \n",
       "\n",
       "   w_p1_tot_hitpct  w_p1_tot_aces  w_p1_tot_serve_errors  w_p1_tot_blocks  \\\n",
       "0              NaN            1.0                    NaN              7.0   \n",
       "1              NaN            0.0                    NaN              4.0   \n",
       "2              NaN            0.0                    NaN              2.0   \n",
       "3              NaN            0.0                    NaN              3.0   \n",
       "4              NaN            1.0                    NaN              0.0   \n",
       "\n",
       "   w_p1_tot_digs  w_p2_tot_attacks  w_p2_tot_kills  w_p2_tot_errors  \\\n",
       "0            NaN               NaN             NaN              NaN   \n",
       "1            NaN               NaN             NaN              NaN   \n",
       "2            NaN               NaN             NaN              NaN   \n",
       "3            NaN               NaN             NaN              NaN   \n",
       "4            NaN               NaN             NaN              NaN   \n",
       "\n",
       "   w_p2_tot_hitpct  w_p2_tot_aces  w_p2_tot_serve_errors  w_p2_tot_blocks  \\\n",
       "0              NaN            2.0                    NaN              0.0   \n",
       "1              NaN            4.0                    NaN              0.0   \n",
       "2              NaN            0.0                    NaN              4.0   \n",
       "3              NaN            0.0                    NaN              0.0   \n",
       "4              NaN            0.0                    NaN              6.0   \n",
       "\n",
       "   w_p2_tot_digs  l_p1_tot_attacks  l_p1_tot_kills  l_p1_tot_errors  \\\n",
       "0            NaN               NaN             NaN              NaN   \n",
       "1            NaN               NaN             NaN              NaN   \n",
       "2            NaN               NaN             NaN              NaN   \n",
       "3            NaN               NaN             NaN              NaN   \n",
       "4            NaN               NaN             NaN              NaN   \n",
       "\n",
       "   l_p1_tot_hitpct  l_p1_tot_aces  l_p1_tot_serve_errors  l_p1_tot_blocks  \\\n",
       "0              NaN            1.0                    NaN              0.0   \n",
       "1              NaN            0.0                    NaN              2.0   \n",
       "2              NaN            1.0                    NaN              1.0   \n",
       "3              NaN            0.0                    NaN              2.0   \n",
       "4              NaN            0.0                    NaN              0.0   \n",
       "\n",
       "   l_p1_tot_digs  l_p2_tot_attacks  l_p2_tot_kills  l_p2_tot_errors  \\\n",
       "0            NaN               NaN             NaN              NaN   \n",
       "1            NaN               NaN             NaN              NaN   \n",
       "2            NaN               NaN             NaN              NaN   \n",
       "3            NaN               NaN             NaN              NaN   \n",
       "4            NaN               NaN             NaN              NaN   \n",
       "\n",
       "   l_p2_tot_hitpct  l_p2_tot_aces  l_p2_tot_serve_errors  l_p2_tot_blocks  \\\n",
       "0              NaN            0.0                    NaN              1.0   \n",
       "1              NaN            0.0                    NaN              0.0   \n",
       "2              NaN            0.0                    NaN              0.0   \n",
       "3              NaN            2.0                    NaN              0.0   \n",
       "4              NaN            0.0                    NaN              1.0   \n",
       "\n",
       "   l_p2_tot_digs  \n",
       "0            NaN  \n",
       "1            NaN  \n",
       "2            NaN  \n",
       "3            NaN  \n",
       "4            NaN  "
      ]
     },
     "execution_count": 145,
     "metadata": {},
     "output_type": "execute_result"
    }
   ],
   "source": [
    "df.head()"
   ]
  },
  {
   "cell_type": "markdown",
   "id": "46f26c65-3def-4ffc-8465-c7e2385296ce",
   "metadata": {},
   "source": [
    "# Which is more important to winning? Defense or offense?"
   ]
  },
  {
   "cell_type": "code",
   "execution_count": null,
   "id": "42a18a2a-f727-42a7-83e6-0b66fb9300f1",
   "metadata": {},
   "outputs": [],
   "source": []
  }
 ],
 "metadata": {
  "kernelspec": {
   "display_name": "Python 3 (ipykernel)",
   "language": "python",
   "name": "python3"
  },
  "language_info": {
   "codemirror_mode": {
    "name": "ipython",
    "version": 3
   },
   "file_extension": ".py",
   "mimetype": "text/x-python",
   "name": "python",
   "nbconvert_exporter": "python",
   "pygments_lexer": "ipython3",
   "version": "3.12.4"
  }
 },
 "nbformat": 4,
 "nbformat_minor": 5
}
